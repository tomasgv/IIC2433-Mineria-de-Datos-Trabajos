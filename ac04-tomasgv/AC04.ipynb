{
  "nbformat": 4,
  "nbformat_minor": 0,
  "metadata": {
    "colab": {
      "name": "AC04.ipynb",
      "provenance": [],
      "collapsed_sections": []
    },
    "kernelspec": {
      "name": "python3",
      "display_name": "Python 3"
    }
  },
  "cells": [
    {
      "cell_type": "markdown",
      "metadata": {
        "id": "6P0eNIIHMNgm"
      },
      "source": [
        "\n",
        "\n",
        "---\n",
        "\n",
        "\n",
        "\n",
        "# Actividad 4: Regresión Logística\n",
        "\n",
        "\n",
        "---\n",
        "\n",
        "\n"
      ]
    },
    {
      "cell_type": "markdown",
      "metadata": {
        "id": "ZLpnLNIxMSvz"
      },
      "source": [
        "***¿Qué es una regresión logística?***\n",
        "\n",
        "Regresión logística es un algoritmo de inteligencia de máquina, el objetivo es predecir la probabilidad de una variable categórica dependiente. La variable dependiente es una variable binaria, codificada ya sea como 0-1, si-no, verdadero-falso, éxito-fallo, etc. Entonces, lo que el modelo de regresión logística predice es P(Y=1) en función de X.\n",
        "\n",
        "***Los supuestos de regresión logística***\n",
        "\n",
        "\n",
        "*   Se requiere una variable dependiente binaria para resgresión logística binaria.\n",
        "*   Se debe considerar el factor 1 de la variable dependiente como el resultado deseado en la regresión logística binaria.\n",
        "*   Se debe cuidar tener solo las variables/atributos que realmente aportan, que son significativos.\n",
        "*   Se requiere que las variables independientes sean independientes entre ellas.\n",
        "*   Se requiere una muestra grande para regresión logística.\n",
        "\n"
      ]
    },
    {
      "cell_type": "markdown",
      "metadata": {
        "id": "_7mrIq7YRbRJ"
      },
      "source": [
        "# 0. Importar las librerías necesarias"
      ]
    },
    {
      "cell_type": "markdown",
      "metadata": {
        "id": "hyOF3nNUR3fp"
      },
      "source": [
        "Al igual que la actividad pasada, podrás ocupar `pandas` y `numpy` para procesar los datos y `matplotlib.pyplot` para las visualizaciones.\n"
      ]
    },
    {
      "cell_type": "code",
      "metadata": {
        "id": "a1dcIUowRdeR"
      },
      "source": [
        "import pandas as pd\n",
        "import numpy as np\n",
        "import matplotlib.pyplot as plt "
      ],
      "execution_count": 2,
      "outputs": []
    },
    {
      "cell_type": "markdown",
      "metadata": {
        "id": "89oDdeGpRyJI"
      },
      "source": [
        "# 1. Importar los datos"
      ]
    },
    {
      "cell_type": "markdown",
      "metadata": {
        "id": "iPuBh3mOSJd6"
      },
      "source": [
        "Importa los datos de la actividad pasada. Verás que están las columnas `x` e `y`. Separalas en dos `numpy arrays`."
      ]
    },
    {
      "cell_type": "code",
      "metadata": {
        "id": "uJiA2-MWR0_R"
      },
      "source": [
        "data = pd.read_csv('https://raw.githubusercontent.com/IIC2433/Syllabus-2020-2/master/Actividades/AC03/data.csv')"
      ],
      "execution_count": 3,
      "outputs": []
    },
    {
      "cell_type": "code",
      "metadata": {
        "id": "GMEy9XqHSSNR"
      },
      "source": [
        "x_array = data['x'].to_numpy()\n",
        "y_array = data['y'].to_numpy()"
      ],
      "execution_count": 4,
      "outputs": []
    },
    {
      "cell_type": "markdown",
      "metadata": {
        "id": "wjN2MvKXSV3w"
      },
      "source": [
        "# 2. Transformación de los datos"
      ]
    },
    {
      "cell_type": "markdown",
      "metadata": {
        "id": "eMHD0Fr9SaGU"
      },
      "source": [
        "**2.0.** Ahora deberás transformar los datos contínuos del eje Y a datos categóricos, de modo que un dato menor a la mediana sea mapeado a cero, mientras que los mayores sean mapeados a uno.\n",
        "\n",
        "Terminada la transformación, grafica los nuevos datos en un scatter plot."
      ]
    },
    {
      "cell_type": "code",
      "metadata": {
        "id": "3zdm0YhpTuLQ"
      },
      "source": [
        "mapped_y = np.array(list(map(lambda y: 0 if y <= np.median(y_array) else 1,y_array)))"
      ],
      "execution_count": 5,
      "outputs": []
    },
    {
      "cell_type": "code",
      "metadata": {
        "id": "zlqRlp0_U7bl",
        "outputId": "86ec493e-581f-421d-e014-4093a345d774",
        "colab": {
          "base_uri": "https://localhost:8080/",
          "height": 334
        }
      },
      "source": [
        "plt.figure(figsize=(10, 5))\n",
        "plt.scatter(x_array, mapped_y)\n",
        "plt.xlabel('X')\n",
        "plt.ylabel('Mapped Y')\n",
        "plt.show()"
      ],
      "execution_count": 6,
      "outputs": [
        {
          "output_type": "display_data",
          "data": {
            "image/png": "[encoded data removed]",
            "text/plain": [
              "<Figure size 720x360 with 1 Axes>"
            ]
          },
          "metadata": {
            "tags": [],
            "needs_background": "light"
          }
        }
      ]
    },
    {
      "cell_type": "markdown",
      "metadata": {
        "id": "kcu0TBdVhZLX"
      },
      "source": [
        "**2.1.** Antes de estimar los parámetros $\\alpha$ y $\\beta$, nos será útil una función que nos entregue el valor de $\\hat{y}$ dados estos valores y el valor de $x$.\n"
      ]
    },
    {
      "cell_type": "code",
      "metadata": {
        "id": "nvmaHYYebr7L"
      },
      "source": [
        "def predecir(valor, alfa, beta):\n",
        "  y_tongo = 1/(1 + np.e**(-(alfa + beta*valor)))\n",
        "  return y_tongo"
      ],
      "execution_count": 44,
      "outputs": []
    },
    {
      "cell_type": "markdown",
      "metadata": {
        "id": "KqZiCg9gh6Wn"
      },
      "source": [
        "**2.2.** ***Stochastic Gradient Descent (SGD) para sacar alfa y beta***\n",
        "\n",
        "El proceso de Gradient Descent busca minimizar siguiendo los gradientes de la función de pérdida.\n",
        "En inteligencia de máquina usamos la técnica que evalua y actualiza los coeficientes en cada iteración para minimizar el error del modelo en nuestro set de entrenamiento.\n",
        "\n",
        "Si bien existen muchas implementaciones distintas, para esta actividad usarán un proceso iterativo que actualizará sus parámetros a partir del error obtenido, del gradiente de su función predictora y de un valor llamado $learning\\ rate$.\n",
        "\n",
        "Para una iteración $t$, el valor de un parámetro $\\beta$ en $t+1$ estará dado por:\n",
        "\n",
        "$$\n",
        "\\beta(t+1)=\\beta(t)+\\gamma * \\epsilon * f'(x)\n",
        "$$\n",
        "\n",
        "Donde $\\epsilon$ corresponde al error que incurre nuestro modelo, $\\gamma$ es el $learning\\ rate$ y $f'(x)$ corresponde a la gradiente.\n",
        "\n",
        "Para efectos de esta actividad, tenemos que nuestra función $f(x)$ es la sigmoide:\n",
        "\n",
        "$$\n",
        "f(x)=\\frac{1}{1+e^{-(\\alpha+\\beta x)}}\n",
        "$$\n",
        "\n",
        "Donde $x$ es el valor de la variable dependiente, $\\alpha$ y $\\beta$ son los parámetros que buscamos optimizar. Ya que nuestra función es sigmoide, podemos también asumir\n",
        "\n",
        "$$\n",
        "f'(x) = f(x) * (1- f(x))=\\hat{y}*(1-\\hat{y})\n",
        "$$\n",
        "\n",
        "Donde $\\hat{y}$ corresponde a la predicción de $y$ dados $\\alpha$ y $\\beta$ de la función.\n",
        "\n",
        "En resumen, ustedes deberán implementar una función que optimize los parámetros alfa y beta, en una cantidad de ciclos específica.\n",
        "\n",
        "En cada ciclo, deberán actualizar, para todos los datos entregados, los parámetros de forma\n",
        "\n",
        "$$\n",
        "\\alpha = \\alpha + \\gamma * (y - \\hat{y}) * \\hat{y} * (1- \\hat{y})\n",
        "$$\n",
        "\n",
        "$$\n",
        "\\beta = \\beta + \\gamma * (y - \\hat{y}) * \\hat{y} * (1- \\hat{y}) * x\n",
        "$$\n",
        "\n",
        "con $\\hat{y}$ siendo la predicción, $(y - \\hat{y})$ el error de la predicción, $x$ es de valor de entrada y el $\\gamma$ es la tasa de aprendizaje que debe ser configurada i.e. $0.01$"
      ]
    },
    {
      "cell_type": "code",
      "metadata": {
        "id": "iOd8M1fLdV7y"
      },
      "source": [
        "def coeficientes(X, Y, gamma, epochs):\n",
        "  alfa = 0\n",
        "  beta = 0\n",
        "  #[Escribe tu respuesta aquí]\n",
        "  for j in range(epochs):\n",
        "    for i in range(len(X)):\n",
        "      y_tongo = predecir(X[i], alfa, beta)\n",
        "      alfa = alfa + gamma * (Y[i] - y_tongo) * y_tongo * (1 - y_tongo)\n",
        "      beta = beta + gamma * (Y[i] - y_tongo) * y_tongo * (1 - y_tongo) * X[i]\n",
        "  return alfa, beta"
      ],
      "execution_count": 46,
      "outputs": []
    },
    {
      "cell_type": "markdown",
      "metadata": {
        "id": "wxIMu3OEiN_2"
      },
      "source": [
        "**2.3.** Nuestro leaning rate $\\gamma$ y la cantidad de ciclos por las que entrenaremos el modelo estan dadas por las siguientes variables:"
      ]
    },
    {
      "cell_type": "code",
      "metadata": {
        "id": "F-LzYciLf1KJ",
        "outputId": "3dd98152-c845-4496-d6c5-9293ad756916",
        "colab": {
          "base_uri": "https://localhost:8080/",
          "height": 34
        }
      },
      "source": [
        "GAMMA = 0.5\n",
        "EPOCHS = 50"
      ],
      "execution_count": 45,
      "outputs": [
        {
          "output_type": "stream",
          "text": [
            "250\n"
          ],
          "name": "stdout"
        }
      ]
    },
    {
      "cell_type": "markdown",
      "metadata": {
        "id": "Ni3gRh8BidW4"
      },
      "source": [
        "**2.4.** Ahora, están listos para obtener los coeficientes del modelo y graficarlo."
      ]
    },
    {
      "cell_type": "code",
      "metadata": {
        "id": "t_nCXByfe-Aa",
        "outputId": "d96fd747-f50f-409b-d5b2-e7132b9f12d7",
        "colab": {
          "base_uri": "https://localhost:8080/",
          "height": 34
        }
      },
      "source": [
        "alfa, beta = coeficientes(x_array, mapped_y, GAMMA, EPOCHS)\n",
        "print(f'Alfa: {alfa}, Beta: {beta}')"
      ],
      "execution_count": 62,
      "outputs": [
        {
          "output_type": "stream",
          "text": [
            "Alfa: -7.177992035153753, Beta: -1.674389017816464\n"
          ],
          "name": "stdout"
        }
      ]
    },
    {
      "cell_type": "code",
      "metadata": {
        "id": "ykc2O03_O85d",
        "outputId": "8596458a-0b83-4205-d5fb-4ec2080c8208",
        "colab": {
          "base_uri": "https://localhost:8080/",
          "height": 334
        }
      },
      "source": [
        "x1 = np.linspace(x_array.min(), x_array.max(), len(x_array), endpoint=True)\n",
        "\n",
        "plt.figure(figsize=(10, 5))\n",
        "plt.scatter(x_array, mapped_y)\n",
        "plt.xlabel('X')\n",
        "plt.ylabel('Mapped Y')\n",
        "\n",
        "plt.plot(x1, predecir(x1, alfa, beta), color='red')\n",
        "plt.show()"
      ],
      "execution_count": 61,
      "outputs": [
        {
          "output_type": "display_data",
          "data": {
            "image/png": "[encoded data removed]",
            "text/plain": [
              "<Figure size 720x360 with 1 Axes>"
            ]
          },
          "metadata": {
            "tags": [],
            "needs_background": "light"
          }
        }
      ]
    }
  ]
}