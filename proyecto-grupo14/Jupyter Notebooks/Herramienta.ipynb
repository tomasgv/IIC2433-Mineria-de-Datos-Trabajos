{
 "cells": [
  {
   "cell_type": "markdown",
   "metadata": {},
   "source": [
    "# Descubre tu rendimiento académico del siguiente semestre! 💯"
   ]
  },
  {
   "cell_type": "markdown",
   "metadata": {},
   "source": [
    "### ¿Te has preguntado cómo será tu rendimiento en un semestre muy cargado? Te tenemos la solución!!! Podemos predecir con mediana certeza si es que bajarás, mantendrás o subirás tu rendimiento académico 👁"
   ]
  },
  {
   "cell_type": "code",
   "execution_count": 1,
   "metadata": {},
   "outputs": [],
   "source": [
    "import pandas as pd\n",
    "import numpy as np\n",
    "from sklearn.neighbors import KNeighborsClassifier, KNeighborsRegressor\n",
    "import warnings\n",
    "import random\n",
    "from ipywidgets import (IntSlider, FloatSlider, HBox, VBox, Layout, \n",
    "Button, Text, BoundedFloatText, Label, IntProgress)"
   ]
  },
  {
   "cell_type": "code",
   "execution_count": 2,
   "metadata": {},
   "outputs": [],
   "source": [
    "warnings.filterwarnings('ignore')"
   ]
  },
  {
   "cell_type": "code",
   "execution_count": 3,
   "metadata": {},
   "outputs": [],
   "source": [
    "data_2015 = pd.read_csv('datasets/2015_preprocesado.csv')\n",
    "data_2016 = pd.read_csv('datasets/2016_preprocesado.csv')\n",
    "data_2017 = pd.read_csv('datasets/2017_preprocesado.csv')"
   ]
  },
  {
   "cell_type": "code",
   "execution_count": 4,
   "metadata": {},
   "outputs": [],
   "source": [
    "data = data_2015.append(data_2016.append(data_2017))"
   ]
  },
  {
   "cell_type": "code",
   "execution_count": 5,
   "metadata": {},
   "outputs": [],
   "source": [
    "def first(i):\n",
    "    return i.iloc[0]"
   ]
  },
  {
   "cell_type": "code",
   "execution_count": 6,
   "metadata": {},
   "outputs": [],
   "source": [
    "nota_final = data.groupby(by=['COD ALUMNO', 'AÑO', 'SEMESTRE'])['NOTA FINAL'].apply(list).to_frame()\n",
    "ramos = data.groupby(by=['COD ALUMNO', 'AÑO', 'SEMESTRE'])['SIGLA'].apply(list).to_frame()\n",
    "ppa = data.groupby(by=['COD ALUMNO', 'AÑO', \n",
    "                            'SEMESTRE'])['PPA', 'CRÈDITOS_PREVIOS', 'MAX_PROMEDIO', \n",
    "                                         'MIN_PROMEDIO', 'MAX_SIGLA', 'MIN_SIGLA',\n",
    "                                         'MAJOR CÓDIGO SELECCIONADO', 'MAJOR SELECCIONADO'].apply(first)\n",
    "creditos_semestre = data.groupby(by=['COD ALUMNO', 'AÑO', 'SEMESTRE'])['CRÉDITOS CURSO'].apply(sum).to_frame()\n",
    "creditos_semestre.rename(columns={'CRÉDITOS CURSO': 'CRÉDITOS SEMESTRE'}, inplace=True)"
   ]
  },
  {
   "cell_type": "code",
   "execution_count": 7,
   "metadata": {},
   "outputs": [],
   "source": [
    "data_knn = pd.concat([ramos, nota_final, ppa, creditos_semestre], axis=1)\n",
    "data_knn = data_knn.loc[data_knn['PPA'] != 0]"
   ]
  },
  {
   "cell_type": "code",
   "execution_count": 8,
   "metadata": {},
   "outputs": [],
   "source": [
    "data_knn = data_knn.loc[data_knn['CRÈDITOS_PREVIOS'] <= 300]"
   ]
  },
  {
   "cell_type": "code",
   "execution_count": 9,
   "metadata": {},
   "outputs": [],
   "source": [
    "X = data_knn[[col for col in data_knn.columns if col != 'NOTA FINAL']]\n",
    "y = data_knn[['NOTA FINAL']]"
   ]
  },
  {
   "cell_type": "code",
   "execution_count": 10,
   "metadata": {},
   "outputs": [],
   "source": [
    "def filtro(X, Y, row_X):\n",
    "    ramos = row_X['SIGLA']\n",
    "    ramos_filtrados = {}\n",
    "    for index, ramo in enumerate(ramos):\n",
    "        if ramo[0] == \"I\" or ramo[:3] in [\"MAT\", \"BIO\", \"FIS\", \"QIM\", \"EYP\"]:\n",
    "            ramos_filtrados[ramo] = 0\n",
    "        else:\n",
    "            return False, False, False\n",
    "            \n",
    "    creditos_semestre = row_X['CRÉDITOS SEMESTRE']\n",
    "    X2 = X.loc[(creditos_semestre + 5 >= X['CRÉDITOS SEMESTRE']) & (X['CRÉDITOS SEMESTRE'] >= creditos_semestre - 5)]\n",
    "    Y = Y.loc[(creditos_semestre + 5 >= X['CRÉDITOS SEMESTRE']) & (X['CRÉDITOS SEMESTRE'] >= creditos_semestre - 5)]\n",
    "    \n",
    "    size = 0\n",
    "\n",
    "    for ramo1 in ramos_filtrados:\n",
    "        for ramo2 in ramos_filtrados:\n",
    "            if ramo1 != ramo2:\n",
    "                filtro_ramos = X2['SIGLA'].apply(lambda x: (ramo1 in x) and (ramo2 in x))\n",
    "                new_X = X2[filtro_ramos]\n",
    "                new_y = Y[filtro_ramos]\n",
    "                if len(new_X) > size:\n",
    "                    size = len(new_X)\n",
    "                    maximo_X = new_X.copy()\n",
    "                    maximo_y = new_y.copy()\n",
    "                    ramos = [ramo1, ramo2]\n",
    "                    \n",
    "    if size == 0:\n",
    "        return False, False, False\n",
    "    \n",
    "    for index, row in maximo_X.iterrows():\n",
    "        \n",
    "        siglas = row['SIGLA']\n",
    "        y = maximo_y.loc[index]\n",
    "        notas = y['NOTA FINAL']\n",
    "        \n",
    "        posiciones = []\n",
    "        for ramo in ramos:\n",
    "            posiciones.append(siglas.index(ramo))\n",
    "        notas_ramos = []\n",
    "        for posicion in posiciones:\n",
    "            notas_ramos.append(notas[posicion])\n",
    "        \n",
    "        maximo_X.loc[index, 'RAMO 1'] = ramos[0]\n",
    "        maximo_X.loc[index, 'RAMO 2'] = ramos[1]\n",
    "        \n",
    "        maximo_y.loc[index, 'NOTA RAMO 1'] = notas_ramos[0]\n",
    "        maximo_y.loc[index, 'NOTA RAMO 2'] = notas_ramos[1]\n",
    "        \n",
    "    row_X['RAMO 1'] = ramos[0]\n",
    "    row_X['RAMO 2'] = ramos[1]\n",
    "\n",
    "    return maximo_X, maximo_y, row_X"
   ]
  },
  {
   "cell_type": "code",
   "execution_count": 11,
   "metadata": {},
   "outputs": [],
   "source": [
    "# PPA hasta el momento 1-7\n",
    "# crd previos 30 - 300, step 5\n",
    "# 2 cursos que va a tomar ahora juntos\n",
    "# mjr promedio, peor promedio 1-7\n",
    "# crd que va a tomar ewe 20-65, step 5\n"
   ]
  },
  {
   "cell_type": "code",
   "execution_count": 12,
   "metadata": {},
   "outputs": [],
   "source": [
    "layout = Layout(width='40vw', height='4vh') \n",
    "\n",
    "ppa = FloatSlider(description='PPA', min=1, max=7, step=.01, style={'description_width': 'initial'}, \n",
    "                  layout=layout)\n",
    "crd_previos = IntSlider(description='Créditos totales hasta el semestre anterior', min=30, max=300, \n",
    "                        step=5, style={'description_width': 'initial'}, layout=layout)\n",
    "mjr_promedio = FloatSlider(description='Mejor promedio hasta el momento', min=1, max=7, step=.01,\n",
    "                         style={'description_width': 'initial'}, layout=layout)\n",
    "peor_promedio = FloatSlider(description='Peor promedio hasta el momento', min=1, max=7, step=.01, \n",
    "                            style={'description_width': 'initial'}, layout=layout)\n",
    "crd_inscritos = IntSlider(description='Créditos que se quieren inscribir', min=20, max=65, step=5, \n",
    "                            style={'description_width': 'initial'}, layout=layout)\n",
    "\n",
    "sigla_1 = Text(\n",
    "    value='',\n",
    "    placeholder='Sigla',\n",
    "    description='Sigla primer curso',\n",
    "    disabled=False,\n",
    "    style={'description_width': 'initial'}\n",
    ")\n",
    "\n",
    "sigla_2 = Text(\n",
    "    value='',\n",
    "    placeholder='Sigla',\n",
    "    description='Sigla segundo curso',\n",
    "    disabled=False,\n",
    "    style={'description_width': 'initial'}\n",
    ")\n",
    "\n",
    "# mjr_promedio = BoundedFloatText(\n",
    "#     value='',\n",
    "#     min=1,\n",
    "#     max=7.0,\n",
    "#     step=0.01,\n",
    "#     description='Mejor promedio hasta el momento',\n",
    "#     disabled=False\n",
    "# )\n",
    "\n",
    "# slider_layout1 = HBox([ppa, crd_inscritos])\n",
    "# slider_layout2 = HBox([mjr_promedio, peor_promedio])\n",
    "# slider_layout3 = HBox([crd_previos])\n",
    "# slider_layout4 = HBox([sigla_1, sigla_2])\n",
    "button = Button(description=\"Predecir!\", \n",
    "                button_style='success', \n",
    "                disabled=False)\n",
    "\n",
    "label = Label(value='')"
   ]
  },
  {
   "cell_type": "code",
   "execution_count": 13,
   "metadata": {},
   "outputs": [],
   "source": [
    "def predecir(modelo_knn, X_test):\n",
    "    x1, y1, x2 = filtro(X, y, X_test)\n",
    "    \n",
    "    if type(x1) == bool:\n",
    "        return 'Ingresa ramos con siglas de la malla del plan común o del departamento de Ingeniería'\n",
    "\n",
    "    x2 = pd.DataFrame(x2).T\n",
    "    \n",
    "    x1 = x1.drop(['SIGLA', 'CRÉDITOS SEMESTRE', 'RAMO 1', 'RAMO 2'], axis=1)\n",
    "    x2 = x2.drop(['SIGLA', 'CRÉDITOS SEMESTRE', 'RAMO 1', 'RAMO 2'], axis=1)\n",
    "    y1 = y1.drop(['NOTA FINAL'], axis=1)\n",
    "\n",
    "\n",
    "    x1_a = x1.drop(['MAJOR SELECCIONADO'], axis=1)\n",
    "    \n",
    "    x1_a = x1_a.drop(['MAJOR CÓDIGO SELECCIONADO', 'MIN_SIGLA', 'MAX_SIGLA'], axis=1)\n",
    "    \n",
    "    x2_a = x2\n",
    "    try:\n",
    "        x2_a = (x2_a - x1_a.min())/(x1_a.max() - x1_a.min())\n",
    "        x1_a = (x1_a - x1_a.min())/(x1_a.max() - x1_a.min())\n",
    "        \n",
    "    except ZeroDivisionError:\n",
    "        return 'No se pudo realizar la predicción'\n",
    "\n",
    "    x1_a = x1_a.fillna(0)\n",
    "    x2_a = x2_a.replace([np.inf, -np.inf], 0)\n",
    "    if len(x1_a) < 5:\n",
    "        return 'No se pudo realizar la predicción'\n",
    "\n",
    "    \n",
    "    y1_a = pd.DataFrame()\n",
    "    y1_a['NOTA RAMO 1'] = pd.cut(y1['NOTA RAMO 1'], bins=[1, 2, 3, 4, 5, 6, 7])\n",
    "    y1_a['NOTA RAMO 2'] = pd.cut(y1['NOTA RAMO 2'], bins=[1, 2, 3, 4, 5, 6, 7])\n",
    "    y1_a['NOTA RAMO 1'] = y1_a['NOTA RAMO 1'].astype(str)\n",
    "    y1_a['NOTA RAMO 2'] = y1_a['NOTA RAMO 2'].astype(str)\n",
    "\n",
    "\n",
    "    modelo_knn.fit(x1_a, y1_a)\n",
    "    pred = modelo_knn.predict(x2_a)\n",
    "\n",
    "    y_predict = [j.replace('.0', '') for j in list(pred[0])]\n",
    "\n",
    "    return y_predict\n"
   ]
  },
  {
   "cell_type": "code",
   "execution_count": 14,
   "metadata": {},
   "outputs": [],
   "source": [
    "def my_dist(x,y):\n",
    "    weight = np.ones((4,))\n",
    "    weight[[1]] = 2\n",
    "    weight = weight/weight.sum()\n",
    "    dist = np.sqrt((x-y)**2)\n",
    "    return np.dot(dist, weight)"
   ]
  },
  {
   "cell_type": "code",
   "execution_count": 15,
   "metadata": {},
   "outputs": [],
   "source": [
    "def on_click(change):\n",
    "    new_ppa = ppa.value\n",
    "    new_crd_previos = crd_previos.value\n",
    "    new_mjr_promedio = mjr_promedio.value\n",
    "    new_peor_promedio = peor_promedio.value\n",
    "    new_crd_inscritos = crd_inscritos.value\n",
    "    new_sigla_1 = sigla_1.value\n",
    "    new_sigla_2 = sigla_2.value\n",
    "    notas_valores = {'(1, 2]': 1.5, '(2, 4]': 2.5, '(3, 4]': 3.5 ,'(4, 5]': 4.5, '(5, 6]': 5.5, '(6, 7]': 6.5}\n",
    "    \n",
    "    lista = [new_sigla_1.upper(), new_sigla_2.upper()]\n",
    "\n",
    "    if new_sigla_1 != '' and new_sigla_2 != '':\n",
    "        label.value = 'llegó aquí ewe'\n",
    "        df = pd.DataFrame(np.array([[new_ppa, new_crd_previos, new_mjr_promedio, \n",
    "                                    new_peor_promedio, new_crd_inscritos, lista]]), \n",
    "                          columns=['PPA', 'CRÈDITOS_PREVIOS', 'MAX_PROMEDIO', 'MIN_PROMEDIO',\n",
    "                                  'CRÉDITOS SEMESTRE', 'SIGLA'])\n",
    "        \n",
    "        # progress.value += 1\n",
    "        knn = KNeighborsClassifier(n_neighbors=5, metric=my_dist)\n",
    "        prediccion = predecir(knn, df.iloc[0])\n",
    "        label.value = 'procesando!!!'\n",
    "        if 'ramos' in prediccion or 'No' in prediccion:\n",
    "            label.value = prediccion\n",
    "        else:\n",
    "            resultado = f'El promedio de tu primer curso estará entre {prediccion[0][1]} y {prediccion[0][4]}, y el de tu segundo curso estará entre {prediccion[1][1]} y {prediccion[1][4]}. '\n",
    "            promedio = (notas_valores[prediccion[0]] + notas_valores[prediccion[1]])/2\n",
    "            if promedio > new_ppa:\n",
    "                resultado += '\\nTu PPA puede subir si rindes estos cursos juntos 🎉. Tu rendimiento puede subir ✨'\n",
    "            elif promedio < new_ppa:\n",
    "                resultado += '\\nTu PPA puede bajar si rindes estos cursos juntos 🥺. Tu rendimiento puede bajar, ten cuidado.'\n",
    "            else:\n",
    "                resultado += '\\nTu PPA no cambiará si rindes estos cursos juntos 🧐. Tu rendimiento se mantendrá 🤝'\n",
    "            label.value = resultado\n",
    "        \n",
    "    else:\n",
    "        prediccion = 'Debes ingresar 2 cursos!'\n",
    "        label.value = prediccion\n",
    "    "
   ]
  },
  {
   "cell_type": "code",
   "execution_count": 16,
   "metadata": {},
   "outputs": [],
   "source": [
    "button.on_click(on_click)"
   ]
  },
  {
   "cell_type": "code",
   "execution_count": 17,
   "metadata": {},
   "outputs": [
    {
     "data": {
      "application/vnd.jupyter.widget-view+json": {
       "model_id": "4bb7751e834a48f2b7aa31227bab40e5",
       "version_major": 2,
       "version_minor": 0
      },
      "text/plain": [
       "VBox(children=(FloatSlider(value=1.0, description='PPA', layout=Layout(height='4vh', width='40vw'), max=7.0, m…"
      ]
     },
     "metadata": {},
     "output_type": "display_data"
    }
   ],
   "source": [
    "final_layout = VBox([ppa, crd_inscritos, mjr_promedio, peor_promedio, crd_previos, \n",
    "                     sigla_1, sigla_2, button, label])\n",
    "final_layout"
   ]
  }
 ],
 "metadata": {
  "kernelspec": {
   "display_name": "Python 3",
   "language": "python",
   "name": "python3"
  },
  "language_info": {
   "codemirror_mode": {
    "name": "ipython",
    "version": 3
   },
   "file_extension": ".py",
   "mimetype": "text/x-python",
   "name": "python",
   "nbconvert_exporter": "python",
   "pygments_lexer": "ipython3",
   "version": "3.8.5"
  }
 },
 "nbformat": 4,
 "nbformat_minor": 4
}
