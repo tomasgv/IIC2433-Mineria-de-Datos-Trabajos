{
  "nbformat": 4,
  "nbformat_minor": 0,
  "metadata": {
    "colab": {
      "name": "Copia de AC06 - Evaluación de Modelos.ipynb",
      "provenance": [],
      "collapsed_sections": []
    },
    "kernelspec": {
      "name": "python3",
      "display_name": "Python 3"
    }
  },
  "cells": [
    {
      "cell_type": "markdown",
      "metadata": {
        "id": "IC1URmnuTjaU"
      },
      "source": [
        "# Actividad Evaluación de modelos\n",
        "\n",
        "Link para crear el repositorio: https://classroom.github.com/a/jZ3onS79\n"
      ]
    },
    {
      "cell_type": "markdown",
      "metadata": {
        "id": "NFOjbeVRlQ0_"
      },
      "source": [
        "## Introducción"
      ]
    },
    {
      "cell_type": "markdown",
      "metadata": {
        "id": "H9XnO0KulJcX"
      },
      "source": [
        "\n",
        "\n",
        "\n",
        "En esta actividad, usted va a evaluar 3 modelos aprendidos en clases: Random Forest, Knn y Regresión Logística. Luego, vamos a seleccionar, justificadamente, el mejor modelo frente a una tarea de clasificación. \n",
        "\n",
        "Para esta actividad, vamos a seguir un _pipeline_ de dividir el dataset en 2 conjuntos y utilizar la técnica de _cross validation_ para encontrar los mejores parámetros por modelo. Por otro lado, en esta actividad se espera que usted pueda familiarizarse más con la documentación de [scikit-learn](https://scikit-learn.org/).\n",
        "\n",
        "A continuación se muestra una imagen de referencia que describe el proceso a relizar en esta actividad.\n",
        "\n",
        "<img src=\"https://scikit-learn.org/stable/_images/grid_search_cross_validation.png\" alt=\"crossvalidation\" width=\"70%\">\n",
        "\n"
      ]
    },
    {
      "cell_type": "markdown",
      "metadata": {
        "id": "ygfgRQ29lMev"
      },
      "source": [
        "\n",
        "### Base de datos\n",
        "\n",
        "La base de datos a utilizar corresponde a mediciones de diversas características del aire para definir si la calidad del aire (`Air_quality`) es 'Moderate' 'Poor' 'Very Poor' 'Satisfactory' 'Good' 'Severe'. Para esta actividad, vamos a contruir modelos que sean capaces de tomar las características del aire y clasificarla según su calidad, es decir, la columna a predecir será `Air_quality`.\n",
        "\n",
        "\n"
      ]
    },
    {
      "cell_type": "markdown",
      "metadata": {
        "id": "qDJeIwn3lNRN"
      },
      "source": [
        "## Actividad"
      ]
    },
    {
      "cell_type": "code",
      "metadata": {
        "id": "9MKbbNKQTj3z"
      },
      "source": [
        "# Librerías básicas para la actividad. Puede prescindir de algunas o añadir más si lo requiere.\n",
        "import numpy as np\n",
        "import pandas as pd\n",
        "from sklearn.model_selection import train_test_split, cross_val_score, KFold\n",
        "from sklearn.neighbors import KNeighborsClassifier\n",
        "from sklearn.linear_model import LogisticRegression\n",
        "from sklearn.ensemble import RandomForestClassifier\n",
        "from sklearn.metrics import confusion_matrix"
      ],
      "execution_count": 41,
      "outputs": []
    },
    {
      "cell_type": "code",
      "metadata": {
        "id": "nZAGQs9DTj0q"
      },
      "source": [
        "DATA_URL = \"https://raw.githubusercontent.com/IIC2433/Syllabus-2020-2/master/Actividades/AC06/data.csv\""
      ],
      "execution_count": 2,
      "outputs": []
    },
    {
      "cell_type": "code",
      "metadata": {
        "id": "1IlRpJz2evu6",
        "outputId": "ccedd6ad-3a16-4967-80ff-4e3e7d34cb0e",
        "colab": {
          "base_uri": "https://localhost:8080/",
          "height": 204
        }
      },
      "source": [
        "data = pd.read_csv(DATA_URL)\n",
        "data.head()"
      ],
      "execution_count": 3,
      "outputs": [
        {
          "output_type": "execute_result",
          "data": {
            "text/html": [
              "<div>\n",
              "<style scoped>\n",
              "    .dataframe tbody tr th:only-of-type {\n",
              "        vertical-align: middle;\n",
              "    }\n",
              "\n",
              "    .dataframe tbody tr th {\n",
              "        vertical-align: top;\n",
              "    }\n",
              "\n",
              "    .dataframe thead th {\n",
              "        text-align: right;\n",
              "    }\n",
              "</style>\n",
              "<table border=\"1\" class=\"dataframe\">\n",
              "  <thead>\n",
              "    <tr style=\"text-align: right;\">\n",
              "      <th></th>\n",
              "      <th>City</th>\n",
              "      <th>Date</th>\n",
              "      <th>PM2.5</th>\n",
              "      <th>PM10</th>\n",
              "      <th>NO</th>\n",
              "      <th>NO2</th>\n",
              "      <th>NOx</th>\n",
              "      <th>NH3</th>\n",
              "      <th>CO</th>\n",
              "      <th>SO2</th>\n",
              "      <th>O3</th>\n",
              "      <th>Benzene</th>\n",
              "      <th>Toluene</th>\n",
              "      <th>Xylene</th>\n",
              "      <th>AQI</th>\n",
              "      <th>Air_quality</th>\n",
              "    </tr>\n",
              "  </thead>\n",
              "  <tbody>\n",
              "    <tr>\n",
              "      <th>0</th>\n",
              "      <td>Ahmedabad</td>\n",
              "      <td>1/1/2015</td>\n",
              "      <td>NaN</td>\n",
              "      <td>NaN</td>\n",
              "      <td>0.92</td>\n",
              "      <td>18.22</td>\n",
              "      <td>17.15</td>\n",
              "      <td>NaN</td>\n",
              "      <td>0.92</td>\n",
              "      <td>27.64</td>\n",
              "      <td>133.36</td>\n",
              "      <td>0.00</td>\n",
              "      <td>0.02</td>\n",
              "      <td>0.00</td>\n",
              "      <td>NaN</td>\n",
              "      <td>NaN</td>\n",
              "    </tr>\n",
              "    <tr>\n",
              "      <th>1</th>\n",
              "      <td>Ahmedabad</td>\n",
              "      <td>1/2/2015</td>\n",
              "      <td>NaN</td>\n",
              "      <td>NaN</td>\n",
              "      <td>0.97</td>\n",
              "      <td>15.69</td>\n",
              "      <td>16.46</td>\n",
              "      <td>NaN</td>\n",
              "      <td>0.97</td>\n",
              "      <td>24.55</td>\n",
              "      <td>34.06</td>\n",
              "      <td>3.68</td>\n",
              "      <td>5.50</td>\n",
              "      <td>3.77</td>\n",
              "      <td>NaN</td>\n",
              "      <td>NaN</td>\n",
              "    </tr>\n",
              "    <tr>\n",
              "      <th>2</th>\n",
              "      <td>Ahmedabad</td>\n",
              "      <td>1/3/2015</td>\n",
              "      <td>NaN</td>\n",
              "      <td>NaN</td>\n",
              "      <td>17.40</td>\n",
              "      <td>19.30</td>\n",
              "      <td>29.70</td>\n",
              "      <td>NaN</td>\n",
              "      <td>17.40</td>\n",
              "      <td>29.07</td>\n",
              "      <td>30.70</td>\n",
              "      <td>6.80</td>\n",
              "      <td>16.40</td>\n",
              "      <td>2.25</td>\n",
              "      <td>NaN</td>\n",
              "      <td>NaN</td>\n",
              "    </tr>\n",
              "    <tr>\n",
              "      <th>3</th>\n",
              "      <td>Ahmedabad</td>\n",
              "      <td>1/4/2015</td>\n",
              "      <td>NaN</td>\n",
              "      <td>NaN</td>\n",
              "      <td>1.70</td>\n",
              "      <td>18.48</td>\n",
              "      <td>17.97</td>\n",
              "      <td>NaN</td>\n",
              "      <td>1.70</td>\n",
              "      <td>18.59</td>\n",
              "      <td>36.08</td>\n",
              "      <td>4.43</td>\n",
              "      <td>10.14</td>\n",
              "      <td>1.00</td>\n",
              "      <td>NaN</td>\n",
              "      <td>NaN</td>\n",
              "    </tr>\n",
              "    <tr>\n",
              "      <th>4</th>\n",
              "      <td>Ahmedabad</td>\n",
              "      <td>1/5/2015</td>\n",
              "      <td>NaN</td>\n",
              "      <td>NaN</td>\n",
              "      <td>22.10</td>\n",
              "      <td>21.42</td>\n",
              "      <td>37.76</td>\n",
              "      <td>NaN</td>\n",
              "      <td>22.10</td>\n",
              "      <td>39.33</td>\n",
              "      <td>39.31</td>\n",
              "      <td>7.01</td>\n",
              "      <td>18.89</td>\n",
              "      <td>2.78</td>\n",
              "      <td>NaN</td>\n",
              "      <td>NaN</td>\n",
              "    </tr>\n",
              "  </tbody>\n",
              "</table>\n",
              "</div>"
            ],
            "text/plain": [
              "        City      Date  PM2.5  PM10  ...  Toluene  Xylene  AQI  Air_quality\n",
              "0  Ahmedabad  1/1/2015    NaN   NaN  ...     0.02    0.00  NaN          NaN\n",
              "1  Ahmedabad  1/2/2015    NaN   NaN  ...     5.50    3.77  NaN          NaN\n",
              "2  Ahmedabad  1/3/2015    NaN   NaN  ...    16.40    2.25  NaN          NaN\n",
              "3  Ahmedabad  1/4/2015    NaN   NaN  ...    10.14    1.00  NaN          NaN\n",
              "4  Ahmedabad  1/5/2015    NaN   NaN  ...    18.89    2.78  NaN          NaN\n",
              "\n",
              "[5 rows x 16 columns]"
            ]
          },
          "metadata": {
            "tags": []
          },
          "execution_count": 3
        }
      ]
    },
    {
      "cell_type": "markdown",
      "metadata": {
        "id": "YGjMb1Tue_2T"
      },
      "source": [
        "Como podrás notar, hay filas que tienen `NaN`. Además tenemos columnas que no son datos sobre el aire como la ciudad y la fecha. Finalmente los datos no están normalizados. Por lo tanto, **debe partir realizando un pequeño pre-procesamiento**:\n",
        "1. Debe eliminar las columnas \"City\" y \"Date\".\n",
        "2. Debe eliminar las filas que tienen `NaN`.\n",
        "3. Obtener X, Y. En otras palabras, separar el dataset entre las columnas para entrenar (X) y la columna a predecir (Y).\n",
        "3. Debe normalizar las columnas que serán usadas para entrenar los modelos. No es necesario implementar a mano la normalización, puede utilizar alguna librería."
      ]
    },
    {
      "cell_type": "code",
      "metadata": {
        "id": "OepP4UDYaeRD"
      },
      "source": [
        "\n",
        "preprocessed = data.drop('City', axis=1).drop('Date', axis=1)\n",
        "preprocessed = preprocessed.dropna()\n",
        "X, Y = preprocessed.drop('Air_quality', axis=1), preprocessed['Air_quality']\n",
        "X = X.apply(lambda x: (x - x.min())/(x.max()-x.min()))"
      ],
      "execution_count": 7,
      "outputs": []
    },
    {
      "cell_type": "markdown",
      "metadata": {
        "id": "PgsM52RHYLdB"
      },
      "source": [
        "### División del dataset\n",
        "\n",
        "Para evaluar un dataset, es muy recomendado construir 2 conjuntos: uno de entrenamiento y otro para testear. El primero se usa para que el modelo aprenda del mundo, mientras que el segundo se utiliza para el reporte de datos y testear que tanto logró generalizar el modelo.\n",
        "\n",
        "Lo primero que debe hacer en esta actividad es separar los datos en ambos conjuntos con una separación de 70% train y 30% test. Además, **debe asegurar que sea una división estratificada**. Este tipo de división se asegura que la proporción de clases del dataset original se mantenga lo mejor posible en los 2 conjuntos. \n",
        "\n",
        "\n",
        "Por ejemplo, si tenemos 2 clases con la siguiente distribución (75% son clase 0 y 25% son clase 1). Una separación estratifica intentará que tanto el conjunto de entrenamiento como el de test tambien tengan 75% de la clase 1 y 25% de la clase 2 cada uno. Una separación aleatoria puede provocar que esa distribución se pierda, por ejemplo, dejando 90% de la clase 0 y 10% de la clase 1 en alguno de los conjuntos.\n",
        "\n",
        "\n",
        "\n",
        "_Hint_: [`train_test_split` de sklearn](https://scikit-learn.org/stable/modules/generated/sklearn.model_selection.train_test_split.html) les será de mucha utilidad."
      ]
    },
    {
      "cell_type": "code",
      "metadata": {
        "id": "u-T4J9OxbTZI"
      },
      "source": [
        "# https://scikit-learn.org/stable/modules/generated/sklearn.model_selection.train_test_split.html\n",
        "X_train, X_test, Y_train, Y_test = train_test_split(X, Y, test_size=0.3)"
      ],
      "execution_count": 13,
      "outputs": []
    },
    {
      "cell_type": "markdown",
      "metadata": {
        "id": "Npf9A34XcH-X"
      },
      "source": [
        "### Calibración de modelos\n",
        "\n",
        "A continuación vamos a calibrar los 3 modelos indicados anteriormente: Random Forest, Knn y Regresión Logística.\n",
        "\n",
        "Algunos modelos presentan hiper-parámetros los cuales influyen fuertemente en la eficiencia del modelo. Por lo tanto, en esta sección, deberán utilizar la técnica de _cross validation_ para encontrar los mejores hiper-parámetros. Cómo **mínimo**, se pide que **se prueben 2 alternativas de hiper-parámetros** y mediante _cross validation_ decidir cual hiper-parámetro fue mejor. Debe utilizar **5 folds** tal como sale en la imagen de referencia.\n",
        "\n",
        "_Hint_: [`cross_val_score` de sklearn](https://scikit-learn.org/stable/modules/generated/sklearn.model_selection.cross_val_score.html) les será de mucha utilidad para aplicar _cross validation_ y [la siguiente tabla](https://scikit-learn.org/stable/modules/model_evaluation.html#common-cases-predefined-values) tiene un listado de posibles métricas para pedirle a `cross_val_score` que retorne (revisar el argumento _scoring_). Puede utilizar la que usted desee que sirva para clasificación.\n",
        "\n",
        "_Hint2_: cuando pruebe el modelo de Regresión logística, si aparece el siguiente warning **_STOP: TOTAL NO. of ITERATIONS REACHED LIMIT_**, se recomienda cambiar los argumentos _solver_ o _max_iter_ del modelo. Revisen la documentación para ver cuales son otros valores posibles para el _solver_. "
      ]
    },
    {
      "cell_type": "code",
      "metadata": {
        "id": "Q_u6ifFvdme-",
        "outputId": "1cbb2f87-f10b-4f80-a117-47016b560f3e",
        "colab": {
          "base_uri": "https://localhost:8080/",
          "height": 51
        }
      },
      "source": [
        "# Modelo 1 - Alternativa hiper parámetros 1 - Distancia Manhattan\n",
        "k_vecinos_1 = KNeighborsClassifier(p=1)\n",
        "k_vecinos_1.fit(X_train, Y_train)\n",
        "\n",
        "# Usaremos accuracy\n",
        "scores = cross_val_score(k_vecinos_1, X_train, Y_train, cv=5, scoring='accuracy')\n",
        "print(scores)\n",
        "print(np.mean(scores))"
      ],
      "execution_count": 31,
      "outputs": [
        {
          "output_type": "stream",
          "text": [
            "[0.83717358 0.86789555 0.84615385 0.82307692 0.85692308]\n",
            "0.8462445941155619\n"
          ],
          "name": "stdout"
        }
      ]
    },
    {
      "cell_type": "code",
      "metadata": {
        "id": "5xf3P0lAdmiG",
        "outputId": "21848c12-6661-4220-910c-20c641f05859",
        "colab": {
          "base_uri": "https://localhost:8080/",
          "height": 51
        }
      },
      "source": [
        "# Modelo 1 - Alternativa hiper parámetros 2 - Nº vecinos = 10\n",
        "k_vecinos_2 = KNeighborsClassifier(n_neighbors=10)\n",
        "k_vecinos_2.fit(X_train, Y_train)\n",
        "scores = cross_val_score(k_vecinos_2, X_train, Y_train, cv=5, scoring='accuracy')\n",
        "print(scores)\n",
        "print(np.mean(scores))"
      ],
      "execution_count": 32,
      "outputs": [
        {
          "output_type": "stream",
          "text": [
            "[0.82334869 0.86635945 0.83230769 0.81076923 0.84307692]\n",
            "0.8351723974949781\n"
          ],
          "name": "stdout"
        }
      ]
    },
    {
      "cell_type": "markdown",
      "metadata": {
        "id": "6BdjORT10X52"
      },
      "source": [
        "Obtenemos como resultado que la primera alternativa de hiper-parámetros es la mejor entre las dos."
      ]
    },
    {
      "cell_type": "code",
      "metadata": {
        "id": "J9Y-qD47dmm5",
        "outputId": "d535f869-f728-479b-a27d-731929c2c4fe",
        "colab": {
          "base_uri": "https://localhost:8080/",
          "height": 51
        }
      },
      "source": [
        "# Modelo 2 - Alternativa hiper parámetros 1 - Clases balanceadas\n",
        "reg_log_1 = LogisticRegression(class_weight='balanced')\n",
        "reg_log_1.fit(X_train, Y_train)\n",
        "scores = cross_val_score(reg_log_1, X_train, Y_train, cv=5, scoring='accuracy')\n",
        "print(scores)\n",
        "print(np.mean(scores))"
      ],
      "execution_count": 33,
      "outputs": [
        {
          "output_type": "stream",
          "text": [
            "[0.69892473 0.71889401 0.70307692 0.66307692 0.72769231]\n",
            "0.702332978849108\n"
          ],
          "name": "stdout"
        }
      ]
    },
    {
      "cell_type": "code",
      "metadata": {
        "id": "m5vh_RbnvwTI",
        "outputId": "e4320e6b-9629-463f-cdfc-fca65902ca1d",
        "colab": {
          "base_uri": "https://localhost:8080/",
          "height": 51
        }
      },
      "source": [
        "# Modelo 2 - Alternativa hiper parámetros 2 - \n",
        "# Usando el algoritmo Newton-Conjugate-Gradient para resolver el problema de optimización\n",
        "reg_log_2 = LogisticRegression(solver='newton-cg')\n",
        "reg_log_2.fit(X_train, Y_train)\n",
        "scores = cross_val_score(reg_log_2, X_train, Y_train, cv=5, scoring='accuracy')\n",
        "print(scores)\n",
        "print(np.mean(scores))"
      ],
      "execution_count": 38,
      "outputs": [
        {
          "output_type": "stream",
          "text": [
            "[0.76651306 0.75576037 0.74       0.73230769 0.74307692]\n",
            "0.7475316081767696\n"
          ],
          "name": "stdout"
        }
      ]
    },
    {
      "cell_type": "markdown",
      "metadata": {
        "id": "XqmGQIhh0mqn"
      },
      "source": [
        "Obtenemos como resultado que la segunda alternativa de hiper-parámetros es la mejor entre las dos."
      ]
    },
    {
      "cell_type": "code",
      "metadata": {
        "id": "y5wZLhjgvwol",
        "outputId": "355fff8a-e534-4caf-ea94-9372185a7be1",
        "colab": {
          "base_uri": "https://localhost:8080/",
          "height": 51
        }
      },
      "source": [
        "# Modelo 3 - Alternativa hiper parámetros 1 - Criterio entropía\n",
        "rand_forest_1 = RandomForestClassifier(criterion='entropy')\n",
        "rand_forest_1.fit(X_train, Y_train)\n",
        "scores = cross_val_score(rand_forest_1, X_train, Y_train, cv=5, scoring='accuracy')\n",
        "print(scores)\n",
        "print(np.mean(scores))"
      ],
      "execution_count": 39,
      "outputs": [
        {
          "output_type": "stream",
          "text": [
            "[0.99231951 0.9969278  0.99538462 0.98923077 0.99538462]\n",
            "0.9938494623655915\n"
          ],
          "name": "stdout"
        }
      ]
    },
    {
      "cell_type": "code",
      "metadata": {
        "id": "cX1zgj-_vxaB",
        "outputId": "b977b69c-4b88-4e85-ed2b-aca6ca4092e6",
        "colab": {
          "base_uri": "https://localhost:8080/",
          "height": 51
        }
      },
      "source": [
        "# Modelo 3 - Alternativa hiper parámetros 2 - 150 estimadores\n",
        "rand_forest_2 = RandomForestClassifier(n_estimators=150)\n",
        "rand_forest_2.fit(X_train, Y_train)\n",
        "scores = cross_val_score(rand_forest_2, X_train, Y_train, cv=5, scoring='accuracy')\n",
        "print(scores)\n",
        "print(np.mean(scores))"
      ],
      "execution_count": 40,
      "outputs": [
        {
          "output_type": "stream",
          "text": [
            "[0.99539171 0.9984639  0.99538462 0.99230769 0.99538462]\n",
            "0.9953865059671511\n"
          ],
          "name": "stdout"
        }
      ]
    },
    {
      "cell_type": "markdown",
      "metadata": {
        "id": "enRZ7-g80ork"
      },
      "source": [
        "Obtenemos como resultado que la segunda alternativa de hiper-parámetros es la mejor entre las dos."
      ]
    },
    {
      "cell_type": "markdown",
      "metadata": {
        "id": "myIodJY-byZB"
      },
      "source": [
        "### Comparación de modelos\n",
        "\n",
        "Hay diferentes formas y herramientas para comparar modelos de clasificación, entre ellas una de las más utilizadas es la **matriz de confusión**:\n",
        "\n",
        "\n",
        "Una matriz de confusión es una herramienta de visualización que permite analizar el desempeño de un algoritmo de clasificación. Generalmente, cada fila de la matriz representará el valor real de la **clase** y cada columna la **predicción** que se hizo sobre dicha clase.\n",
        "\n",
        "<img src=\"https://i.stack.imgur.com/bYbgo.png\" alt=\"confussionmatrix\" width=\"60%\">\n",
        "\n",
        "\n",
        "Como último punto, a partir de la distribución de filas y columnas, podemos apreciar que la **diagonal formada contendrá las \"clasificaciones bien hechas\"** que hizo nuestro algoritmo.\n",
        "\n",
        "\n",
        "A continuación, gráfique una matriz de confusión para cada uno de los modelos de la sección anterior. Recuerde que primero debe entrenar el modelo con el conjunto de entrenamiento y con los mejores hiper-parámetros encontrados en la calibración. Luego, debe predecir el set de test y formar la matriz de confusión con las predicciones realizadas del set de test y la etiqueta real.\n",
        "\n",
        "_Hint_: Matplotlib o seaborn les puede ser de utilidad para hacer los gráfico. Otra opción es investigar sobre la función [`plot_confusion_matrix`](https://scikit-learn.org/stable/modules/generated/sklearn.metrics.plot_confusion_matrix.html#sklearn.metrics.plot_confusion_matrix).\n"
      ]
    },
    {
      "cell_type": "code",
      "metadata": {
        "id": "mCg25z8ufF1u"
      },
      "source": [
        "# una de las librerías más utilizadas para plotear esta matriz es seaborn\n",
        "# puede usar otra si lo desea\n",
        "import seaborn as sbn"
      ],
      "execution_count": 45,
      "outputs": []
    },
    {
      "cell_type": "code",
      "metadata": {
        "id": "a8On8dkoX9A2",
        "outputId": "c534972b-1fa1-41d3-e420-c3d010f3a7b2",
        "colab": {
          "base_uri": "https://localhost:8080/",
          "height": 332
        }
      },
      "source": [
        "# Grafico modelo 1 con mejores hiper-parámetros\n",
        "k_vecinos = KNeighborsClassifier(p=1)\n",
        "k_vecinos.fit(X_train, Y_train)\n",
        "predicted = k_vecinos.predict(X_test)\n",
        "matrix = confusion_matrix(Y_test, predicted)\n",
        "labels = sorted(Y_test.unique())\n",
        "sbn.heatmap(matrix, xticklabels=labels, yticklabels=labels)\n"
      ],
      "execution_count": 48,
      "outputs": [
        {
          "output_type": "execute_result",
          "data": {
            "text/plain": [
              "<matplotlib.axes._subplots.AxesSubplot at 0x7fa1fef08a90>"
            ]
          },
          "metadata": {
            "tags": []
          },
          "execution_count": 48
        },
        {
          "output_type": "display_data",
          "data": {
            "image/png": "[encoded data removed]",
            "text/plain": [
              "<Figure size 432x288 with 2 Axes>"
            ]
          },
          "metadata": {
            "tags": [],
            "needs_background": "light"
          }
        }
      ]
    },
    {
      "cell_type": "code",
      "metadata": {
        "id": "weY62pkNX9JI",
        "outputId": "aeb24fa2-44a4-482b-8ba2-abb9f54683d5",
        "colab": {
          "base_uri": "https://localhost:8080/",
          "height": 332
        }
      },
      "source": [
        "# Grafico modelo 2 con mejores hiper-parámetros\n",
        "reg_log = LogisticRegression(solver='newton-cg')\n",
        "reg_log.fit(X_train, Y_train)\n",
        "predicted = reg_log.predict(X_test)\n",
        "matrix = confusion_matrix(Y_test, predicted)\n",
        "labels = sorted(Y_test.unique())\n",
        "sbn.heatmap(matrix, xticklabels=labels, yticklabels=labels)"
      ],
      "execution_count": 49,
      "outputs": [
        {
          "output_type": "execute_result",
          "data": {
            "text/plain": [
              "<matplotlib.axes._subplots.AxesSubplot at 0x7fa1fee5fc88>"
            ]
          },
          "metadata": {
            "tags": []
          },
          "execution_count": 49
        },
        {
          "output_type": "display_data",
          "data": {
            "image/png": "[encoded data removed]",
            "text/plain": [
              "<Figure size 432x288 with 2 Axes>"
            ]
          },
          "metadata": {
            "tags": [],
            "needs_background": "light"
          }
        }
      ]
    },
    {
      "cell_type": "code",
      "metadata": {
        "id": "vYEMQ40SX9Mg",
        "outputId": "d76b5e8e-9726-4820-8a80-73f2cf91f325",
        "colab": {
          "base_uri": "https://localhost:8080/",
          "height": 332
        }
      },
      "source": [
        "# Grafico modelo 3 con mejores hiper-parámetros\n",
        "rand_forest = RandomForestClassifier(n_estimators=150)\n",
        "rand_forest.fit(X_train, Y_train)\n",
        "predicted = rand_forest.predict(X_test)\n",
        "matrix = confusion_matrix(Y_test, predicted)\n",
        "labels = sorted(Y_test.unique())\n",
        "sbn.heatmap(matrix, xticklabels=labels, yticklabels=labels)"
      ],
      "execution_count": 50,
      "outputs": [
        {
          "output_type": "execute_result",
          "data": {
            "text/plain": [
              "<matplotlib.axes._subplots.AxesSubplot at 0x7fa1fed900b8>"
            ]
          },
          "metadata": {
            "tags": []
          },
          "execution_count": 50
        },
        {
          "output_type": "display_data",
          "data": {
            "image/png": "[encoded data removed]",
            "text/plain": [
              "<Figure size 432x288 with 2 Axes>"
            ]
          },
          "metadata": {
            "tags": [],
            "needs_background": "light"
          }
        }
      ]
    },
    {
      "cell_type": "markdown",
      "metadata": {
        "id": "ogalZJB52rzw"
      },
      "source": [
        "Finalmente, existen distintas métricas estadísticas que se pueden utilizar para comparar modelos de forma númerica, en esta actividad nos centraremos en: [**_accuracy_**](https://scikit-learn.org/stable/modules/generated/sklearn.metrics.accuracy_score.html) y [**_f1 score_**](https://scikit-learn.org/stable/modules/generated/sklearn.metrics.f1_score.html).\n",
        "\n",
        "- *Accuracy*: Mide la cantidad relativa de veces que el modelo ha acertado en la predicción de las clases. En la matriz de confusión se puede ver como el número de elementos en la diagonal dividivo por el número total de predicciones.\n",
        "\n",
        "- *F1 Score*: Es una combinación de otras dos métricas: *precision* y *recall*. Generalmente, existe un *tradeoff* entre ambas métricas, por lo que es útil definir un solo valor, conocido como la media harmónica entre ambas:\n",
        "\n",
        "$$ F_{\\beta} = \\frac{2 * Precision * Recall}{Presicion + Recall}$$\n",
        "\n",
        "\n",
        "Si bien pueden hacer la implementación de ambas métricas, para esta actividad pueden utilizar la librería ```sklearn```, donde encontrarán varias métricas de compración. Deberán hacer una comparación del valor que toman estas métricas en las clasificaciones que hizo cada uno de los anteriores modelos con los mejores hiper-parámetros. Luego, deberá realizar un comentario sobre este.\n",
        "\n",
        "**Importante**: La función `f1_score` tiene por defecto lo que las predicciones son de un modelo binario (solo responde 1 o 0), pero este este modelo es multiclase (6 clases posibles). Por lo tanto, cuando calcule `f1_score`, debe cambiar el argumento `average` por \"_macro_\". En otro caso, se va a calcular la métrica como el promedio pensando que es un modelo binario y va a generar un error."
      ]
    },
    {
      "cell_type": "code",
      "metadata": {
        "id": "HzwMA_7d3y7-"
      },
      "source": [
        "# importamos ambas métricas\n",
        "from sklearn.metrics import accuracy_score, f1_score"
      ],
      "execution_count": 52,
      "outputs": []
    },
    {
      "cell_type": "code",
      "metadata": {
        "id": "v_z1vdNyZ9gZ",
        "outputId": "0c823afb-7256-45be-83aa-6b4045a5ee7b",
        "colab": {
          "base_uri": "https://localhost:8080/",
          "height": 51
        }
      },
      "source": [
        "# calcular métricas modelo 1 con mejor hiper parámetros\n",
        "k_vecinos = KNeighborsClassifier(p=1)\n",
        "k_vecinos.fit(X_train, Y_train)\n",
        "predicted = k_vecinos.predict(X_test)\n",
        "print('Accuracy:', accuracy_score(Y_test, predicted))\n",
        "print('F1 Score:', f1_score(Y_test, predicted, average='macro'))"
      ],
      "execution_count": 55,
      "outputs": [
        {
          "output_type": "stream",
          "text": [
            "Accuracy: 0.8565279770444764\n",
            "F1 Score: 0.8331686734668478\n"
          ],
          "name": "stdout"
        }
      ]
    },
    {
      "cell_type": "code",
      "metadata": {
        "id": "Auml86-DaEEN",
        "outputId": "98df45a5-a5b9-4ee5-f765-15594762cbbb",
        "colab": {
          "base_uri": "https://localhost:8080/",
          "height": 51
        }
      },
      "source": [
        "# calcular métricas modelo 2 con mejor hiper parámetros\n",
        "reg_log = LogisticRegression(solver='newton-cg')\n",
        "reg_log.fit(X_train, Y_train)\n",
        "predicted = reg_log.predict(X_test)\n",
        "print('Accuracy:', accuracy_score(Y_test, predicted))\n",
        "print('F1 Score:', f1_score(Y_test, predicted, average='macro'))"
      ],
      "execution_count": 56,
      "outputs": [
        {
          "output_type": "stream",
          "text": [
            "Accuracy: 0.7517934002869441\n",
            "F1 Score: 0.5861042821871361\n"
          ],
          "name": "stdout"
        }
      ]
    },
    {
      "cell_type": "code",
      "metadata": {
        "id": "FLJfAbQKaE4p",
        "outputId": "e1d0a3b3-f177-42f6-a4e3-6f4133fa539f",
        "colab": {
          "base_uri": "https://localhost:8080/",
          "height": 51
        }
      },
      "source": [
        "# calcular métricas modelo 3 con mejor hiper parámetros\n",
        "rand_forest = RandomForestClassifier(n_estimators=150)\n",
        "rand_forest.fit(X_train, Y_train)\n",
        "predicted = rand_forest.predict(X_test)\n",
        "print('Accuracy:', accuracy_score(Y_test, predicted))\n",
        "print('F1 Score:', f1_score(Y_test, predicted, average='macro'))"
      ],
      "execution_count": 57,
      "outputs": [
        {
          "output_type": "stream",
          "text": [
            "Accuracy: 0.9978479196556671\n",
            "F1 Score: 0.995259521726564\n"
          ],
          "name": "stdout"
        }
      ]
    },
    {
      "cell_type": "markdown",
      "metadata": {
        "id": "YAErn6nwaESz"
      },
      "source": [
        "**Comentar** ¿Cuál modelo tuvo mejor accuracy? ¿Con cuanta diferencia con los demás? ¿Cuál modelo tuvo mejor f1-score? ¿Con cuanta diferencia con los demás?\n",
        "\n",
        "El modelo con mejor *accuracy* fue *Random Forest* (cerca de 100%!), superando a KNN por cerca de 14% (KNN tuvo ~85%), y a Regresión Logística por cerca de 24% (tuvo ~75%).\n",
        "\n",
        "El modelo con mejor f1-score también fue *Random Forest* (cerca de 100% 😱 ), superando a KNN por cerca de 16% (tuvo ~83%), y a Regresión Logística por cerca de 41% (tuvo ~58%).\n",
        "\n",
        "¡Tenemos un ganador! \n",
        "\n",
        "🌳🌲🌴🎄🌳🌲 *Random Forest* 🌴🎄🌳🌲🌴🎄"
      ]
    }
  ]
}