{
  "nbformat": 4,
  "nbformat_minor": 0,
  "metadata": {
    "kernelspec": {
      "display_name": "Python 3",
      "language": "python",
      "name": "python3"
    },
    "language_info": {
      "codemirror_mode": {
        "name": "ipython",
        "version": 3
      },
      "file_extension": ".py",
      "mimetype": "text/x-python",
      "name": "python",
      "nbconvert_exporter": "python",
      "pygments_lexer": "ipython3",
      "version": "3.7.0"
    },
    "colab": {
      "name": "AC03.ipynb",
      "provenance": [],
      "toc_visible": true
    }
  },
  "cells": [
    {
      "cell_type": "markdown",
      "metadata": {
        "id": "VZp2zrVrs70z",
        "colab_type": "text"
      },
      "source": [
        "# Actividad 3: Regresión lineal"
      ]
    },
    {
      "cell_type": "markdown",
      "metadata": {
        "id": "YYoI647ms700",
        "colab_type": "text"
      },
      "source": [
        "*¿Qué es una regresión lineal?*\n",
        "\n",
        "La regresión lineal es un algoritmo de aprendizaje supervisado que se utiliza en Machine Learning y en estadística. En su versión más sencilla, lo que haremos es “dibujar una recta” que nos indicará la tendencia de un conjunto de datos continuos. \n",
        "\n",
        "En estadística, regresión lineal es una aproximación para modelar la relación entre una variable escalar dependiente “y” y una o mas variables explicativas nombradas con “X”.\n",
        "\n",
        "Primero,  recordar que la fórmula de una recta es:\n",
        "\n",
        "$$ Y = mX + b$$\n",
        "\n",
        "Donde $Y$ es el resultado, $X$ es la variable, $m$ la pendiente (o coeficiente) de la recta y $b$ la constante o también conocida como el “punto de corte con el eje Y” en la gráfica (cuando $X=0$)\n",
        "\n",
        "Por lo tanto la recta de regresión es la que mejor se ajusta a la nube de puntos (puntos en un plano)\n",
        "\n",
        "La regresión lineal es fácil de entender ya que podemos representarla como una simple ecuación lineal:\n",
        "\n",
        "$$ Y_i = \\beta_0 + \\beta_1X_1 + \\beta_2X_2 + ... + \\beta_pX_p + \\varepsilon $$\n",
        "\n",
        "donde:\n",
        "\n",
        "$Y_i$: Es la variable dependiente\n",
        "$X_1,X_2,...,X_p$: Son las variables independientes\n",
        "$\\beta_0,\\beta_1,\\beta_2,...,\\beta_p,$: son los parámetros que ponderan las variables independientes."
      ]
    },
    {
      "cell_type": "markdown",
      "metadata": {
        "id": "gCz0ImpHs701",
        "colab_type": "text"
      },
      "source": [
        "### Regresión lineal simple\n",
        "En esta actividad, haremos una regresión lineal simple, donde se maneja un variable independiente, por lo que sólo cuenta con 2 parámetros ($\\beta_0$ y $\\beta_1$). Su forma es:\n",
        "\n",
        "$$ Y_i = \\beta_0 + \\beta_1X_1 + \\varepsilon $$"
      ]
    },
    {
      "cell_type": "markdown",
      "metadata": {
        "id": "5-7uqx04s702",
        "colab_type": "text"
      },
      "source": [
        "### Importar las librerías necesarias"
      ]
    },
    {
      "cell_type": "markdown",
      "metadata": {
        "id": "wAcIlWtXs703",
        "colab_type": "text"
      },
      "source": [
        "Podrás ocupar `pandas` y `numpy` para procesar los datos y  `matplotlib` para las visualizaciones. "
      ]
    },
    {
      "cell_type": "code",
      "metadata": {
        "id": "zgBlpWqIs704",
        "colab_type": "code",
        "colab": {}
      },
      "source": [
        "import pandas as pd\n",
        "import numpy as np\n",
        "import matplotlib as plt"
      ],
      "execution_count": 3,
      "outputs": []
    },
    {
      "cell_type": "markdown",
      "metadata": {
        "id": "6oQePDb6s709",
        "colab_type": "text"
      },
      "source": [
        "### Importar los datos"
      ]
    },
    {
      "cell_type": "markdown",
      "metadata": {
        "id": "3wZYX1m9s70-",
        "colab_type": "text"
      },
      "source": [
        "Importa los datos. Verás que están las columnas `x` e `y`. Separalas en dos `numpy arrays`."
      ]
    },
    {
      "cell_type": "code",
      "metadata": {
        "id": "YGqyo1GBtBUQ",
        "colab_type": "code",
        "colab": {}
      },
      "source": [
        "df = pd.read_csv('https://raw.githubusercontent.com/IIC2433/Syllabus-2020-2/master/Actividades/AC03/data.csv')"
      ],
      "execution_count": 4,
      "outputs": []
    },
    {
      "cell_type": "code",
      "metadata": {
        "id": "dZDUulPas71V",
        "colab_type": "code",
        "colab": {}
      },
      "source": [
        "x = df['x'].to_numpy()\n",
        "y = df['y'].to_numpy()"
      ],
      "execution_count": 5,
      "outputs": []
    },
    {
      "cell_type": "markdown",
      "metadata": {
        "id": "oEwJZGPDs71a",
        "colab_type": "text"
      },
      "source": [
        "### Conociendo los datos"
      ]
    },
    {
      "cell_type": "markdown",
      "metadata": {
        "id": "_EDRa4NDs71b",
        "colab_type": "text"
      },
      "source": [
        "Grafica en un scatter plot los datos para conocerlos un poco. "
      ]
    },
    {
      "cell_type": "code",
      "metadata": {
        "id": "d0bO7BP2s71b",
        "colab_type": "code",
        "colab": {
          "base_uri": "https://localhost:8080/",
          "height": 282
        },
        "outputId": "1bd0a6f8-c7bd-49ee-a423-2c927748fdeb"
      },
      "source": [
        "plt.pyplot.scatter(x,y)"
      ],
      "execution_count": 6,
      "outputs": [
        {
          "output_type": "execute_result",
          "data": {
            "text/plain": [
              "<matplotlib.collections.PathCollection at 0x7fdd4abf49e8>"
            ]
          },
          "metadata": {
            "tags": []
          },
          "execution_count": 6
        },
        {
          "output_type": "display_data",
          "data": {
            "image/png": "[encoded data removed]",
            "text/plain": [
              "<Figure size 432x288 with 1 Axes>"
            ]
          },
          "metadata": {
            "tags": [],
            "needs_background": "light"
          }
        }
      ]
    },
    {
      "cell_type": "markdown",
      "metadata": {
        "id": "rqV4V_bQs71j",
        "colab_type": "text"
      },
      "source": [
        "# A. Regresión lineal"
      ]
    },
    {
      "cell_type": "markdown",
      "metadata": {
        "id": "FlHsGLQ_s71l",
        "colab_type": "text"
      },
      "source": [
        "Vamos a estimar los parámetros $\\beta_0,\\beta_1$ de la regresión y luego plotear la recta generada. "
      ]
    },
    {
      "cell_type": "markdown",
      "metadata": {
        "id": "21V6fgFWs71m",
        "colab_type": "text"
      },
      "source": [
        "### 1. Estimar parámetros"
      ]
    },
    {
      "cell_type": "markdown",
      "metadata": {
        "id": "4_NVOuwks71n",
        "colab_type": "text"
      },
      "source": [
        "Completa la siguiente función para estimar los parámetros de la regresión, siguiendo los pasos que se mencionan. "
      ]
    },
    {
      "cell_type": "code",
      "metadata": {
        "id": "mV1GLZqps71n",
        "colab_type": "code",
        "colab": {}
      },
      "source": [
        "def estimate_params(x, y):\n",
        "    #1. Obtener las medias de x e y\n",
        "    mu_x = x.mean()\n",
        "    mu_y = y.mean()\n",
        "    \n",
        "    #2. Obtener S_xy y S_xx\n",
        "    S_xy = np.dot(x, y) - (1/len(x))*sum(x)*sum(y)\n",
        "    S_xx = (np.dot(x,x) - (1/len(x))*(sum(x)**2))\n",
        "\n",
        "    #3. Calcular parámetros\n",
        "    b_1 = S_xy / S_xx\n",
        "    b_0 = mu_y - b_1*mu_x\n",
        "\n",
        "    return b_0, b_1"
      ],
      "execution_count": 42,
      "outputs": []
    },
    {
      "cell_type": "code",
      "metadata": {
        "id": "jpDolWq3s71s",
        "colab_type": "code",
        "colab": {
          "base_uri": "https://localhost:8080/",
          "height": 51
        },
        "outputId": "8130728e-8399-4aec-c9b7-6c31eb868935"
      },
      "source": [
        "b_0, b_1 = estimate_params(x, y)\n",
        "print(b_0)\n",
        "print(b_1)\n"
      ],
      "execution_count": 43,
      "outputs": [
        {
          "output_type": "stream",
          "text": [
            "14.85830467863445\n",
            "0.07963944447833916\n"
          ],
          "name": "stdout"
        }
      ]
    },
    {
      "cell_type": "markdown",
      "metadata": {
        "id": "z_zZk9zNs71y",
        "colab_type": "text"
      },
      "source": [
        "### 2. Visualización "
      ]
    },
    {
      "cell_type": "markdown",
      "metadata": {
        "id": "JjwHroats71z",
        "colab_type": "text"
      },
      "source": [
        "En un **mismo gráfico**, grafica mediante `matplotlib`:\n",
        "- Los datos en un scatter plot. \n",
        "- La recta que se genera con la regresión, para que veas como se ajusta la recta a los datos. Para esto, ocupa `np.linspace`, que permite generar datos secuenciales en el rango de valores de x. "
      ]
    },
    {
      "cell_type": "code",
      "metadata": {
        "scrolled": false,
        "id": "-6AqUb1_s71z",
        "colab_type": "code",
        "colab": {
          "base_uri": "https://localhost:8080/",
          "height": 282
        },
        "outputId": "4abca792-285f-4223-dd3e-caba44445f91"
      },
      "source": [
        "fig = plt.pyplot.figure()\n",
        "\n",
        "x1 = np.linspace(x.min(), x.max(), 250, endpoint=True)\n",
        "\n",
        "plt.pyplot.scatter(x, y)\n",
        "plt.pyplot.plot(x1, b_0 + b_1*x1)\n"
      ],
      "execution_count": 38,
      "outputs": [
        {
          "output_type": "execute_result",
          "data": {
            "text/plain": [
              "[<matplotlib.lines.Line2D at 0x7fdd4777f550>]"
            ]
          },
          "metadata": {
            "tags": []
          },
          "execution_count": 38
        },
        {
          "output_type": "display_data",
          "data": {
            "image/png": "[encoded data removed]",
            "text/plain": [
              "<Figure size 432x288 with 1 Axes>"
            ]
          },
          "metadata": {
            "tags": [],
            "needs_background": "light"
          }
        }
      ]
    },
    {
      "cell_type": "markdown",
      "metadata": {
        "id": "K-yLef1Gs713",
        "colab_type": "text"
      },
      "source": [
        "En el gráfico puedes ver que los datos no se ajustan muy bien a la recta, ¿cierto? Bueno, para esto existe el truco del Kernel. "
      ]
    },
    {
      "cell_type": "markdown",
      "metadata": {
        "id": "ry50efVXs714",
        "colab_type": "text"
      },
      "source": [
        "# B. Regresión lineal con kernel gaussiano"
      ]
    },
    {
      "cell_type": "markdown",
      "metadata": {
        "id": "zYPkJoGGs714",
        "colab_type": "text"
      },
      "source": [
        "### 1. Aplicar kernels y estimar $\\hat{Y}$. "
      ]
    },
    {
      "cell_type": "markdown",
      "metadata": {
        "id": "zdcWXED6s715",
        "colab_type": "text"
      },
      "source": [
        "Para aplicar un kernel gaussiano, es necesario definir cuantos datos del dataset (es decir, cuantos kernels) ocuparemos para hacer las predicciones. Es necesario también definir el sigma del kernel gaussiano. Definamos esto en las siguientes variables:"
      ]
    },
    {
      "cell_type": "code",
      "metadata": {
        "id": "ih9DAv1_s715",
        "colab_type": "code",
        "colab": {}
      },
      "source": [
        "P = 40 #Número de datos para obtener kernels\n",
        "SIGMA = 1 "
      ],
      "execution_count": 10,
      "outputs": []
    },
    {
      "cell_type": "markdown",
      "metadata": {
        "id": "kMsZ3xxVs718",
        "colab_type": "text"
      },
      "source": [
        "Luego aplicamos el kernel:\n",
        " $$\\huge \\Phi (X) = \\huge e^{-\\frac{1}{2}(\\frac{X - x_i}{\\sigma})^2} $$\n",
        " \n",
        "Donde $x_i$ es uno de los $P$ datos elegidos para los kernels, por lo que te quedará un vector de dimensión $P$: \n",
        "\n",
        "$$   \n",
        "\\begin{align}\n",
        "    \\begin{bmatrix}\n",
        "           e^{-\\frac{1}{2}(\\frac{X - x_1}{\\sigma})^2} \\\\\n",
        "           e^{-\\frac{1}{2}(\\frac{X - x_2}{\\sigma})^2} \\\\\n",
        "           \\vdots \\\\\n",
        "           e^{-\\frac{1}{2}(\\frac{X - x_P}{\\sigma})^2}\n",
        "         \\end{bmatrix}\n",
        "  \\end{align}\n",
        "$$\n",
        "\n",
        "Por otro lado, $X$ es el dato asociado (input) al $\\hat{Y}$ que quiero estimar. \n",
        "\n",
        "Después de hacer esto, debes hacer la suma ponderada de los $Y$s asociados a los $P$ kernels obtenidos, ocupando como ponderadores estos kernels. \n",
        "\n",
        "Para estructurar mejor tu código, tendrás que completar la siguiente clase. Solo debes completar sus dos métodos: `gaussian_kernel` y `predict`. "
      ]
    },
    {
      "cell_type": "code",
      "metadata": {
        "id": "tn02tZOOs719",
        "colab_type": "code",
        "colab": {}
      },
      "source": [
        "class GaussianKernelRegression:\n",
        "\n",
        "    def __init__(self, mus, y, sigma):\n",
        "        #muestra de P elementos del dataset, separados en x e y:\n",
        "        self.mus = mus\n",
        "        self.y = y \n",
        "        self.sigma = sigma #para el cálculo del kernel\n",
        "    \n",
        "    '''\n",
        "    Recibe un escalar y retorna un vector con el kernel gaussiano \n",
        "    aplicado a este, utilizando los P datos elegidos para los kernels. \n",
        "    '''\n",
        "    def gaussian_kernel(self, X):\n",
        "        vector = np.array([np.exp(-0.5*((X-i)/self.sigma)**2) for i in self.mus])\n",
        "        return vector\n",
        "    \n",
        "    '''\n",
        "    Recibe el X correspondiente al Ytongo que quiero estimar. \n",
        "    Usa el método gaussian_kernel para calcular los kernels, \n",
        "    luego hace la suma ponderada de ellos y retorna Ytongo. \n",
        "    '''\n",
        "    def predict(self, X):\n",
        "        kernels = np.array([self.gaussian_kernel(i) for i in X])\n",
        "        W = kernels/sum(kernels)\n",
        "        predicted = np.dot(W, self.y)\n",
        "        return predicted"
      ],
      "execution_count": 168,
      "outputs": []
    },
    {
      "cell_type": "markdown",
      "metadata": {
        "id": "Hc5wdDeqs71_",
        "colab_type": "text"
      },
      "source": [
        "Ahora instancia un objeto `GaussianKernelRegression`. Recuerda que esta recibe una muestra de tamaño $P$ de los datos, separada en las columnas $x$ e $y$. "
      ]
    },
    {
      "cell_type": "code",
      "metadata": {
        "id": "6v8IHvcZs72A",
        "colab_type": "code",
        "colab": {}
      },
      "source": [
        "\n",
        "muestra = df.sample(P)\n",
        "x_muestra = muestra['x'].to_numpy()\n",
        "y_muestra = muestra['y'].to_numpy()\n",
        "kernelregression = GaussianKernelRegression(x_muestra, y_muestra, SIGMA)\n"
      ],
      "execution_count": 229,
      "outputs": []
    },
    {
      "cell_type": "markdown",
      "metadata": {
        "id": "iKs7W-ePs72F",
        "colab_type": "text"
      },
      "source": [
        "### 2. Visualización"
      ]
    },
    {
      "cell_type": "markdown",
      "metadata": {
        "id": "XhSi1DGbs72F",
        "colab_type": "text"
      },
      "source": [
        "En un **mismo gráfico**, grafica mediante `matplotlib`:\n",
        "- Los datos en un scatter plot. \n",
        "- La curva que se genera con la regresión, para que veas como se ajusta a los datos. Para esto, ocupa `np.linspace`, que permite generar datos secuenciales en el rango de valores de x. Luego, para cada uno de ellos, predice su valor $\\hat{Y}$ mediante el método `predict` de `GaussianKernelRegression`. Asignale otro color para distinguir la curva de los puntos.  "
      ]
    },
    {
      "cell_type": "code",
      "metadata": {
        "id": "up-2OqYzs72F",
        "colab_type": "code",
        "colab": {
          "base_uri": "https://localhost:8080/",
          "height": 282
        },
        "outputId": "8a83becb-4e0d-4387-af6b-64f0718ea889"
      },
      "source": [
        "fig = plt.pyplot.figure()\n",
        "\n",
        "x1 = np.linspace(x.min(), x.max(), P, endpoint=True)\n",
        "\n",
        "plt.pyplot.scatter(x, y)\n",
        "plt.pyplot.plot(x1, kernelregression.predict(x1), '-m')"
      ],
      "execution_count": 230,
      "outputs": [
        {
          "output_type": "execute_result",
          "data": {
            "text/plain": [
              "[<matplotlib.lines.Line2D at 0x7fdd448df748>]"
            ]
          },
          "metadata": {
            "tags": []
          },
          "execution_count": 230
        },
        {
          "output_type": "display_data",
          "data": {
            "image/png": "[encoded data removed]",
            "text/plain": [
              "<Figure size 432x288 with 1 Axes>"
            ]
          },
          "metadata": {
            "tags": [],
            "needs_background": "light"
          }
        }
      ]
    }
  ]
}