{
 "cells": [
  {
   "cell_type": "markdown",
   "metadata": {
    "id": "KUS9F2R-y6lW"
   },
   "source": [
    "# T02\n",
    "\n",
    "Tomás González Villarroel"
   ]
  },
  {
   "cell_type": "code",
   "execution_count": 13,
   "metadata": {
    "id": "2qvh2Z1G7EXy"
   },
   "outputs": [
    {
     "name": "stdout",
     "output_type": "stream",
     "text": [
      "0.375\n"
     ]
    },
    {
     "data": {
      "text/plain": [
       "0.8571428571428571"
      ]
     },
     "execution_count": 13,
     "metadata": {},
     "output_type": "execute_result"
    }
   ],
   "source": [
    "import pandas as pd\n",
    "import numpy as np\n",
    "\n",
    "print(3/8)\n",
    "-1 * (3/8 * np.log2(3/8) + 5/8 * np.log2(5/8))\n",
    "\n",
    "3/32 / 0.109375\n",
    "\n",
    "1/64 /* 32/5"
   ]
  },
  {
   "cell_type": "markdown",
   "metadata": {
    "id": "ULdqUa1xy8X7"
   },
   "source": [
    "## Definición de clases"
   ]
  },
  {
   "cell_type": "code",
   "execution_count": 2,
   "metadata": {
    "id": "aYY-ffFD0TBB"
   },
   "outputs": [],
   "source": [
    "class Node:\n",
    "\n",
    "    def __init__(self, data, target, depth=0, division=None, value=None):\n",
    "        self.division = division \n",
    "        self.value = value \n",
    "        self.data = data\n",
    "        self.target = target\n",
    "        self.children = None\n",
    "        self.answer = None\n",
    "        self.depth = depth\n",
    "        self.es_hoja = False\n",
    "        self.es_categorico = True\n",
    "        self.bin = None\n",
    "        self.predict_data = None\n",
    "\n",
    "\n",
    "    def calculate_entropy(self):\n",
    "        \"\"\"\n",
    "        Calcula la entropía del nodo y la retorna\n",
    "        \"\"\"\n",
    "        grouped = self.data[self.target].value_counts()\n",
    "        self.answer = grouped.idxmax()\n",
    "\n",
    "        total = len(self.data)\n",
    "        entropy = -1 * np.sum([g/total * np.log2(g/total) for g in grouped])\n",
    "        return entropy\n",
    "\n",
    "    def get_best_division(self, strategy='median', cut_type='traditional'):\n",
    "        \"\"\"\n",
    "        Retorna el nombre de la/s columna/s con las cuales hará la división el nodo.\n",
    "        \"\"\"\n",
    "        gains = {}\n",
    "        tipos = {}\n",
    "        bins = {}\n",
    "        entropy = self.calculate_entropy()\n",
    "        if entropy == 0:\n",
    "            self.es_hoja = True\n",
    "            return False\n",
    "        total_cols = self.data.drop(self.target, axis=1).columns\n",
    "        total_data = len(self.data)\n",
    "\n",
    "        if not total_data:\n",
    "            self.es_hoja = True\n",
    "            return None\n",
    "        nodo_posible = Node(None, self.target, depth=self.depth + 1)\n",
    "        \n",
    "        if cut_type == 'traditional':\n",
    "            for colname in total_cols:\n",
    "                col = self.data[colname]\n",
    "                tipos[colname] = True\n",
    "                if col.dtype.name != 'object':\n",
    "                    col, bin = self.bining(col, strategy)\n",
    "                    tipos[colname] = False\n",
    "                    bins[colname] = bin\n",
    "                values = col.value_counts().to_dict()\n",
    "                gains[colname] = entropy\n",
    "                split_info = 0\n",
    "                for v in values:\n",
    "                    new_data = self.data[col == v]\n",
    "                    if len(new_data) == 0:\n",
    "                        continue\n",
    "                    if col.dtype.name == 'object':\n",
    "                        new_data = new_data.drop(col.name, axis=1)\n",
    "                    nodo_posible.data = new_data\n",
    "                    nodo_posible.value = v\n",
    "                    gains[colname] -= len(new_data)/total_data * nodo_posible.calculate_entropy()\n",
    "                    split_info -= values[v]/total_data * np.log2(values[v]/total_data)\n",
    "                if split_info != 0:\n",
    "                    gains[colname] /= split_info\n",
    "\n",
    "            result = max(gains, key=gains.get)\n",
    "            self.division = result\n",
    "            self.es_categorico = tipos[result]\n",
    "            if not self.es_categorico:\n",
    "                self.bin = bins[result]\n",
    "            return result\n",
    "        else:\n",
    "            if len(total_cols) < 2:\n",
    "                self.es_hoja = True\n",
    "                return None\n",
    "            \n",
    "            values = []\n",
    "            for col in total_cols:\n",
    "                col = self.data[col]\n",
    "                tipos[col.name] = True\n",
    "                if col.dtype.name != 'object':\n",
    "                    col, bin = self.bining(col, strategy)\n",
    "                    tipos[col.name] = False\n",
    "                    bins[col.name] = bin\n",
    "                values.append(col.value_counts().to_dict())\n",
    "\n",
    "            for i in range(len(total_cols)):\n",
    "                for j in range(i + 1, len(total_cols)):\n",
    "                    col1, col2 = self.data[total_cols[i]], self.data[total_cols[j]]\n",
    "                    gains[(col1.name, col2.name)] = entropy\n",
    "                    split_info = 0\n",
    "                    for v1 in values[i]:\n",
    "                        for v2 in values[j]:\n",
    "                            new_data = self.data[(col1 == v1) & (col2 == v2)]\n",
    "                            if len(new_data) == 0:\n",
    "                                gains[(col1.name, col2.name)] = 0\n",
    "                                continue\n",
    "                            if col1.dtype.name == 'object':\n",
    "                                new_data = new_data.drop(col1.name, axis=1)\n",
    "                            if col2.dtype.name == 'object':\n",
    "                                new_data = new_data.drop(col2.name, axis=1)\n",
    "                            nodo_posible.data = new_data\n",
    "                            nodo_posible.value = (v1, v2)\n",
    "                            gains[(col1.name, col2.name)] -= len(new_data)/total_data * nodo_posible.calculate_entropy()\n",
    "                            split_info -= len(new_data)/total_data * np.log2(len(new_data)/total_data)\n",
    "                    if split_info != 0:\n",
    "                        gains[(col1.name, col2.name)] /= split_info\n",
    "                    \n",
    "\n",
    "            result = max(gains, key=gains.get)\n",
    "            self.division = result\n",
    "            self.es_categorico = (tipos[result[0]], tipos[result[1]])\n",
    "            self.bin = [False, False]\n",
    "            if not self.es_categorico[0]:\n",
    "                self.bin[0] = bins[result[0]]\n",
    "            if not self.es_categorico[1]:\n",
    "                self.bin[1] = bins[result[1]]\n",
    "            return result\n",
    "\n",
    "    def bining(self, column, strategy='median', use_bin=False):\n",
    "        \"\"\"\n",
    "        Recibe una columa que tiene datos numéricos  y retorna un DataFrame.\n",
    "        Por defecto usa la mediana, pero puede especificarse usar la media\n",
    "        \"\"\"\n",
    "        if use_bin:\n",
    "            value = self.bin\n",
    "            if type(value) == list:\n",
    "                for i in range(2):\n",
    "                    if self.division[i] == column.name:\n",
    "                        value = value[i]\n",
    "        else:\n",
    "            if strategy == 'median':\n",
    "                value = column.median()\n",
    "            elif strategy == 'mean':\n",
    "                value = column.mean()\n",
    "            else:\n",
    "                raise ValueError('Estrategia no soportada')\n",
    "        column = column.apply(lambda x: 1 if x > value else 0)\n",
    "        return column, value\n"
   ]
  },
  {
   "cell_type": "code",
   "execution_count": 3,
   "metadata": {
    "id": "fbaIIGGXyx3E"
   },
   "outputs": [],
   "source": [
    "# Código clase árbol\n",
    "class DecisionTree:\n",
    "\n",
    "    def __init__(self, cut_type, strategy, max_depth=None, min_data=None, ignore_cols=None):\n",
    "        self.cut_type = cut_type\n",
    "        self.strategy = strategy\n",
    "        self.max_depth = max_depth\n",
    "        self.min_data = min_data\n",
    "        self.root = None\n",
    "        self.ignore_cols = ignore_cols\n",
    "\n",
    "\n",
    "    def fit(self, X, Y):\n",
    "        for col in self.ignore_cols:\n",
    "            X = X.drop(col, axis=1)\n",
    "        X[Y.name] = Y\n",
    "        self.root = Node(X, Y.name)\n",
    "        por_chequear = [self.root]\n",
    "\n",
    "        if self.cut_type == 'traditional':\n",
    "            while por_chequear:\n",
    "                node = por_chequear.pop(0)\n",
    "                division = node.get_best_division(self.strategy)\n",
    "                if not self.check_deep(node) or not self.check_min_data(node):\n",
    "                    node.es_hoja = True\n",
    "                    continue\n",
    "                if division:\n",
    "                    col = node.data[division]\n",
    "                    if col.dtype.name != 'object':\n",
    "                        col, bin = node.bining(col, self.strategy)\n",
    "                    values = col.value_counts().to_dict()\n",
    "                    child_nodes = []\n",
    "                    for v in values:\n",
    "                        new_data = node.data[col == v]\n",
    "                        if col.dtype.name == 'object':\n",
    "                            new_data = new_data.drop(col.name, axis=1)\n",
    "                        child = Node(new_data, node.target, depth=node.depth + 1, value=v)\n",
    "                        child_nodes.append(child)\n",
    "                        por_chequear.append(child)\n",
    "                    node.children = child_nodes\n",
    "\n",
    "        else:\n",
    "            while por_chequear:\n",
    "                node = por_chequear.pop(0)\n",
    "                divisiones = node.get_best_division(self.strategy, 'transversal')\n",
    "                if not self.check_deep(node) or not self.check_min_data(node):\n",
    "                    node.es_hoja = True\n",
    "                    continue\n",
    "                if divisiones:\n",
    "                    values = []\n",
    "                    cols = []\n",
    "                    for col in divisiones:\n",
    "                        col = node.data[col]\n",
    "                        if col.dtype.name != 'object':\n",
    "                            col, bin = node.bining(col, self.strategy)\n",
    "                        cols.append(col)\n",
    "                        values.append(col.value_counts().to_dict())\n",
    "\n",
    "                    child_nodes = []\n",
    "                    for v1 in values[0]:\n",
    "                        for v2 in values[1]:\n",
    "                            new_data = node.data[(cols[0] == v1) & (cols[1] == v2)]\n",
    "                            if len(new_data) == 0:\n",
    "                                continue\n",
    "                            if cols[0].dtype.name == 'object':\n",
    "                                new_data = new_data.drop(cols[0].name, axis=1)\n",
    "                            if cols[1].dtype.name == 'object':\n",
    "                                new_data = new_data.drop(cols[1].name, axis=1)\n",
    "                            child = Node(new_data, node.target, depth=node.depth + 1, value=(v1, v2))\n",
    "                            child_nodes.append(child)\n",
    "                            por_chequear.append(child)\n",
    "                    node.children = child_nodes\n",
    "\n",
    "        return self.root\n",
    "\n",
    "\n",
    "    def predict(self, X):\n",
    "        \"\"\"\n",
    "        Predice la columna resultante a partir de los datos X\n",
    "        \"\"\"\n",
    "        por_chequear = [self.root]\n",
    "        predicted = {}\n",
    "        self.root.predict_data = X\n",
    "        if self.cut_type == 'traditional':\n",
    "            while por_chequear:\n",
    "                node = por_chequear.pop(0)\n",
    "                if node.es_hoja:\n",
    "                    for i in list(node.predict_data.index.values):\n",
    "                        predicted[i] = node.answer\n",
    "                else:\n",
    "                    col = node.predict_data[node.division]\n",
    "                    if col.dtype.name != 'object':\n",
    "                        col, bin = node.bining(col, self.strategy, True)\n",
    "\n",
    "                    for child in node.children:\n",
    "                        child.predict_data = node.predict_data[col == child.value]\n",
    "                        por_chequear.append(child)\n",
    "        else:\n",
    "            while por_chequear:\n",
    "                node = por_chequear.pop(0)\n",
    "                if node.es_hoja:\n",
    "                    for i in list(node.predict_data.index.values):\n",
    "                        predicted[i] = node.answer\n",
    "                else:\n",
    "                    col1 = node.predict_data[node.division[0]]\n",
    "                    col2 = node.predict_data[node.division[1]]\n",
    "                    if col1.dtype.name != 'object':\n",
    "                        col1, bin = node.bining(col1, self.strategy, True)\n",
    "                    if col2.dtype.name != 'object':\n",
    "                        col2, bin = node.bining(col2, self.strategy, True)\n",
    "\n",
    "                    for child in node.children:\n",
    "                        child.predict_data = node.predict_data[(col1 == child.value[0]) & (col2 == child.value[1])]\n",
    "                        por_chequear.append(child)\n",
    "        return pd.Series(predicted).sort_index()\n",
    "\n",
    "\n",
    "    def check_deep(self, node):\n",
    "        \"\"\"\n",
    "        Retorna True o False dependiendo si el nodo puede seguir \n",
    "        su propagación en función de max_depth\n",
    "        \"\"\"\n",
    "        if not self.max_depth:\n",
    "            return True\n",
    "        return node.depth < self.max_depth\n",
    "\n",
    "\n",
    "    def check_min_data(self, node):\n",
    "        \"\"\"\n",
    "        Retorna True o False dependiendo si el nodo puede seguir \n",
    "        su propagación en función de la cantidad mínima de datos\n",
    "        \"\"\"\n",
    "        if not self.min_data:\n",
    "            return True\n",
    "        return len(node.data) >= self.min_data\n",
    "\n"
   ]
  },
  {
   "cell_type": "markdown",
   "metadata": {
    "id": "2q-yAVjd1jja"
   },
   "source": [
    "## Comparar resultados\n",
    "\n",
    "Antes de comparar los resultados, se cargan los datos y se define la función para obtener el rendimiento del árbol."
   ]
  },
  {
   "cell_type": "code",
   "execution_count": 6,
   "metadata": {
    "id": "kGzXrAqh3DJF"
   },
   "outputs": [],
   "source": [
    "# En esta sección se encargan de abrir el dataset y dejarlo en formato X, Y para train y test.\n",
    "df_train = pd.read_csv('datasets/train_small.csv')\n",
    "X_train = df_train\n",
    "Y_train = df_train['state']\n",
    "\n",
    "df_test = pd.read_csv('datasets/test_small.csv')\n",
    "X_test = df_test\n",
    "Y_test= df_test['state']"
   ]
  },
  {
   "cell_type": "code",
   "execution_count": 7,
   "metadata": {
    "id": "g4CZrzFw5BYk"
   },
   "outputs": [],
   "source": [
    "def performance(y_real, y_predicted):\n",
    "    total_data = len(y_predicted)\n",
    "    correct = 0\n",
    "    # Solo se tomará en cuenta las filas que sí están en el set de testeo\n",
    "    for i in list(y_predicted.index.values):\n",
    "        if y_real[i] == y_predicted[i]:\n",
    "            correct += 1\n",
    "    return correct/total_data\n"
   ]
  },
  {
   "cell_type": "markdown",
   "metadata": {
    "id": "YSn2NRF928QD"
   },
   "source": [
    "### Estrategia"
   ]
  },
  {
   "cell_type": "markdown",
   "metadata": {
    "id": "VUHOHsc7_PTc"
   },
   "source": [
    "Debido al gran tiempo que demora el árbol en generarse, se le entregó el hiper-parámetro `max_depth=3` en ambos árboles, de modo que solo se diferencien en el tipo de estrategia. "
   ]
  },
  {
   "cell_type": "code",
   "execution_count": 8,
   "metadata": {
    "id": "-x1lyQiJqp7G"
   },
   "outputs": [],
   "source": [
    "# En esta sección se encargan de entrenar 2 árboles según distinto tipo de corte y luego comparar los resultados\n",
    "# con el set de test\n",
    "tree_median = DecisionTree('traditional', 'median', max_depth=3, ignore_cols=['name', 'ID', 'state'])\n",
    "tree_mean = DecisionTree('traditional', 'mean', max_depth=3, ignore_cols=['name', 'ID', 'state'])\n",
    "\n",
    "tree_median.fit(X_train, Y_train)\n",
    "tree_mean.fit(X_train, Y_train)\n",
    "\n",
    "Y_median = tree_median.predict(X_test)\n",
    "Y_mean = tree_mean.predict(X_test)"
   ]
  },
  {
   "cell_type": "code",
   "execution_count": 9,
   "metadata": {
    "colab": {
     "base_uri": "https://localhost:8080/",
     "height": 51
    },
    "id": "DkfXwCRJqrMg",
    "outputId": "b8b7e1f5-c166-4b54-a4bb-fc1275aa5b1e"
   },
   "outputs": [
    {
     "name": "stdout",
     "output_type": "stream",
     "text": [
      "Usando mediana se obtuvo un desempeño de 0.6563626366913068\n",
      "Usando media se obtuvo un desempeño de 0.6589453974389949\n"
     ]
    }
   ],
   "source": [
    "print('Usando mediana se obtuvo un desempeño de', performance(Y_test, Y_median))\n",
    "print('Usando media se obtuvo un desempeño de', performance(Y_test, Y_mean))"
   ]
  },
  {
   "cell_type": "markdown",
   "metadata": {
    "id": "etNQUEWaN7sZ"
   },
   "source": [
    "A partir de los resultados, obtenemos que el mejor desemeño fue con la estrategia de media, superando por aproximadamente 0.3% a la estrategia de mediana."
   ]
  },
  {
   "cell_type": "markdown",
   "metadata": {
    "id": "Cr4GmKnY3Ls7"
   },
   "source": [
    "### Tipo de corte"
   ]
  },
  {
   "cell_type": "code",
   "execution_count": 10,
   "metadata": {
    "id": "QlLmaUht1nAt"
   },
   "outputs": [],
   "source": [
    "# En esta sección se encargan de entrenar 2 árboles según estrategia y luego comparar los resultados\n",
    "# con el set de test\n",
    "tree_traditional = DecisionTree('traditional', 'mean', max_depth=3, ignore_cols=['name', 'ID', 'state'])\n",
    "tree_transversal = DecisionTree('transversal', 'mean', max_depth=3, ignore_cols=['name', 'ID', 'state'])\n",
    "\n",
    "tree_traditional.fit(X_train, Y_train)\n",
    "tree_transversal.fit(X_train, Y_train)\n",
    "\n",
    "Y_traditional = tree_traditional.predict(X_test)\n",
    "Y_transversal = tree_transversal.predict(X_test)"
   ]
  },
  {
   "cell_type": "code",
   "execution_count": 11,
   "metadata": {
    "colab": {
     "base_uri": "https://localhost:8080/",
     "height": 51
    },
    "id": "uHa-j7n87La3",
    "outputId": "abd67b98-f95d-4de6-85d5-9a9e33355b37"
   },
   "outputs": [
    {
     "name": "stdout",
     "output_type": "stream",
     "text": [
      "Usando corte tradicional se obtuvo un desempeño de 0.6589453974389949\n",
      "Usando corte transversal se obtuvo un desempeño de 0.6442961510484203\n"
     ]
    }
   ],
   "source": [
    "print('Usando corte tradicional se obtuvo un desempeño de', performance(Y_test, Y_traditional))\n",
    "print('Usando corte transversal se obtuvo un desempeño de', performance(Y_test, Y_transversal))"
   ]
  },
  {
   "cell_type": "markdown",
   "metadata": {
    "id": "Oxj3q-xiq-JR"
   },
   "source": [
    "A partir de los resultados, obtenemos que el mejor desemeño fue con el tipo de corte tradicional, superando por aproximadamente 1% al corte transversal."
   ]
  },
  {
   "cell_type": "markdown",
   "metadata": {
    "id": "YF0Bz4Dg3MEK"
   },
   "source": [
    "### Hiperparámetros"
   ]
  },
  {
   "cell_type": "markdown",
   "metadata": {
    "id": "fdW0iXTpEqgO"
   },
   "source": [
    "#### Árbol con ambos hiper-parámetros como `None`\n",
    "Para esta parte tuve enormes dificultades dado el tiempo que demora el árbol en generarse, por lo que tuve que usar al menos un hiper-parámetro para poder seguir avanzando con la tarea ☹️ .\n",
    "\n",
    "Se tomará como árbol base el que posee máximo de profundidad de tres niveles.\n",
    "\n"
   ]
  },
  {
   "cell_type": "code",
   "execution_count": 12,
   "metadata": {
    "colab": {
     "base_uri": "https://localhost:8080/",
     "height": 34
    },
    "id": "Ac-TOOMy3Ls9",
    "outputId": "ab4cc365-4d0e-45b4-9df6-6164dab8e962"
   },
   "outputs": [
    {
     "data": {
      "text/plain": [
       "0.6589453974389949"
      ]
     },
     "execution_count": 12,
     "metadata": {},
     "output_type": "execute_result"
    }
   ],
   "source": [
    "# En esta sección se encargan de entrenar 4 árboles distintos y luego comparar los resultados\n",
    "# con el set de test\n",
    "tree = DecisionTree('traditional', 'mean', max_depth=3, ignore_cols=['name', 'ID', 'state'])\n",
    "tree.fit(X_train, Y_train)\n",
    "Y_predicted = tree.predict(X_test)\n",
    "performance(Y_test, Y_predicted)"
   ]
  },
  {
   "cell_type": "markdown",
   "metadata": {
    "id": "0EXrI5TpFNWN"
   },
   "source": [
    "### Árbol cambiando el hiper-parámetro `min_data`\n",
    "Ahora se procede a cambiar el hiper-parámetro de mínimo de datos:"
   ]
  },
  {
   "cell_type": "code",
   "execution_count": 13,
   "metadata": {
    "colab": {
     "base_uri": "https://localhost:8080/",
     "height": 85
    },
    "id": "BVl8qnT-rRMI",
    "outputId": "d16473db-104c-40b4-acb7-ae59b54e87f3"
   },
   "outputs": [
    {
     "name": "stdout",
     "output_type": "stream",
     "text": [
      "Rendimiento con un mínimo de 50 datos: 0.6589453974389949\n",
      "Rendimiento con un mínimo de 100 datos: 0.6589453974389949\n",
      "Rendimiento con un mínimo de 500 datos: 0.6592637296318649\n",
      "Rendimiento con un mínimo de 1000 datos: 0.6592637296318649\n"
     ]
    }
   ],
   "source": [
    "for i in [50, 100, 500, 1000]:\n",
    "    tree = DecisionTree('traditional', 'mean', max_depth=3, min_data = i, ignore_cols=['name', 'ID', 'state'])\n",
    "    tree.fit(X_train, Y_train)\n",
    "    Y_predicted = tree.predict(X_test)\n",
    "    print(f'Rendimiento con un mínimo de {i} datos:', performance(Y_test, Y_predicted))"
   ]
  },
  {
   "cell_type": "markdown",
   "metadata": {
    "id": "nZWqOzbHvzl8"
   },
   "source": [
    "Se observa que al aumentar el mínimo de datos, el rendimiento aumenta ligeramente, y se mantiene estable desde 500 datos como mínimo.\n",
    "\n",
    "Por lo tanto, el mejor valor para especificar como mínimo de datos es entre 500 y 1000. \n",
    "\n",
    "\n"
   ]
  },
  {
   "cell_type": "markdown",
   "metadata": {
    "id": "1aQBQ-HXHU9D"
   },
   "source": [
    "### Árbol cambiando el hiper-parámetro `max_depth`\n",
    "\n",
    "Ahora se procede a cambiar el hiper-parámetro de máximo nivel de profundidad:\n",
    "\n"
   ]
  },
  {
   "cell_type": "code",
   "execution_count": 14,
   "metadata": {
    "colab": {
     "base_uri": "https://localhost:8080/",
     "height": 68
    },
    "id": "CW7aRmZNrRYO",
    "outputId": "393d925c-633a-4ec3-d4be-a89a2676c60c"
   },
   "outputs": [
    {
     "name": "stdout",
     "output_type": "stream",
     "text": [
      "Rendimiento con un máximo de 2 niveles de profundidad: 0.5964060662706907\n",
      "Rendimiento con un máximo de 3 niveles de profundidad: 0.6589453974389949\n",
      "Rendimiento con un máximo de 4 niveles de profundidad: 0.6538950764744206\n"
     ]
    }
   ],
   "source": [
    "for i in [2, 3, 4]:\n",
    "    tree = DecisionTree('traditional', 'mean', max_depth = i, ignore_cols=['name', 'ID', 'state'])\n",
    "    tree.fit(X_train, Y_train)\n",
    "    Y_predicted = tree.predict(X_test)\n",
    "    print(f'Rendimiento con un máximo de {i} niveles de profundidad:', performance(Y_test, Y_predicted))"
   ]
  },
  {
   "cell_type": "markdown",
   "metadata": {
    "id": "fGbE2SNXxKyX"
   },
   "source": [
    "Se observa que con dos niveles de profundidad el rendimiento disminuye bastante (cerca de 10%), luego aumenta con tres niveles, y finalmente vuelve a disminuir con cuatro niveles.\n",
    "\n",
    "Por lo tanto, el mejor valor para considerar como máximo de profundidad es 3."
   ]
  },
  {
   "cell_type": "markdown",
   "metadata": {
    "id": "2RrilQpXGy0v"
   },
   "source": [
    "### Árbol cambiando ambos hiper-parámetros\n",
    "\n",
    "Finalmente, se preocede a cambiar ambos hiper-parámetros:"
   ]
  },
  {
   "cell_type": "code",
   "execution_count": 15,
   "metadata": {
    "colab": {
     "base_uri": "https://localhost:8080/",
     "height": 119
    },
    "id": "rLHp9HGzrRjC",
    "outputId": "0232aa91-518c-4f6b-a948-b48e78656f43"
   },
   "outputs": [
    {
     "name": "stdout",
     "output_type": "stream",
     "text": [
      "Rendimiento con:\n",
      "Máximo de 3 niveles de profundidad y mínimo de 50 datos: 0.6589453974389949\n",
      "Máximo de 3 niveles de profundidad y mínimo de 500 datos: 0.6592637296318649\n",
      "Máximo de 3 niveles de profundidad y mínimo de 1000 datos: 0.6592637296318649\n",
      "Máximo de 4 niveles de profundidad y mínimo de 500 datos: 0.6589149631063264\n",
      "Máximo de 2 niveles de profundidad y mínimo de 500 datos: 0.5964060662706907\n"
     ]
    }
   ],
   "source": [
    "print('Rendimiento con:')\n",
    "for i, j in [(3, 50), (3, 500), (3, 1000), (4, 500), (2, 500)]:\n",
    "    tree = DecisionTree('traditional', 'mean', max_depth = i, min_data = j, ignore_cols=['name', 'ID', 'state'])\n",
    "    tree.fit(X_train, Y_train)\n",
    "    Y_predicted = tree.predict(X_test)\n",
    "    performance(Y_test, Y_predicted)\n",
    "    print(f'Máximo de {i} niveles de profundidad y mínimo de {j} datos:', performance(Y_test, Y_predicted))"
   ]
  },
  {
   "cell_type": "markdown",
   "metadata": {
    "id": "PT9OFkL_y1Um"
   },
   "source": [
    "Se observa que la combinación de hiper-parámetros con mejor rendimiento fue especificar 3 niveles de profundidad y entre 500 y 1000 datos mínimos, donde el rendimiento se mantuvo igual.\n",
    "\n",
    "Finalmente, el desempeño del árbol cambió en mayor proporción al variar la profundidad máxima, teniendo tanto su peor desempeño (2 niveles) como su mejor desempeño (3 niveles)."
   ]
  },
  {
   "cell_type": "markdown",
   "metadata": {
    "id": "QDm4p2B33itl"
   },
   "source": [
    "## Visualización"
   ]
  },
  {
   "cell_type": "markdown",
   "metadata": {
    "id": "AvNT92Akdcvu"
   },
   "source": [
    "Para visualizar el árbol, se hará uso de la librería `graphviz`, y en particular se usará la clase `Digraph`.\n",
    "\n",
    "En cada nodo se especifica su división, número de muestras en el nodo y predicción. Si es un nodo hoja, en lugar de división se menciona que es hoja.\n",
    "\n",
    "En cada arista de un nodo a su hijo, se especifica el valor que toma entre paréntesis. Si es un atributo contínuo, se especifica si es mayor (>), o menor o igual (<=) al valor usado para separarlos."
   ]
  },
  {
   "cell_type": "code",
   "execution_count": 16,
   "metadata": {
    "colab": {
     "base_uri": "https://localhost:8080/",
     "height": 34
    },
    "id": "YJZ7AhU-CErt",
    "outputId": "15454f6d-2f60-4f4d-c04a-3e7312ed6c80"
   },
   "outputs": [],
   "source": [
    "import graphviz"
   ]
  },
  {
   "cell_type": "code",
   "execution_count": 17,
   "metadata": {
    "colab": {
     "base_uri": "https://localhost:8080/",
     "height": 34
    },
    "id": "BhrLEPA05VMO",
    "outputId": "f2592ceb-23a0-402f-d269-97792a45536c"
   },
   "outputs": [
    {
     "data": {
      "text/plain": [
       "<__main__.Node at 0x1183316d0>"
      ]
     },
     "execution_count": 17,
     "metadata": {},
     "output_type": "execute_result"
    }
   ],
   "source": [
    "tree = DecisionTree('traditional', 'mean', max_depth=3, ignore_cols=['name', 'ID', 'state'])\n",
    "tree.fit(X_train, Y_train)"
   ]
  },
  {
   "cell_type": "code",
   "execution_count": 18,
   "metadata": {
    "id": "UEF_DP12Mqtv"
   },
   "outputs": [],
   "source": [
    "def create_graph(tree):\n",
    "    \"\"\"\n",
    "    Crea la visaulización del árbol con corte tradicional\n",
    "    \"\"\"\n",
    "    g = graphviz.Digraph('G', filename='graph.gv')\n",
    "    g.attr('node', shape='square')\n",
    "    por_recorrer = [tree]\n",
    "    nodes = {}\n",
    "    index = 0\n",
    "    nodes[tree] = index\n",
    "    g.node(f'struct{index}', f'División: {tree.division}\\nSamples: {len(tree.data)}\\nPredicción: {tree.answer}')\n",
    "    while por_recorrer:\n",
    "        node = por_recorrer.pop(0)\n",
    "        if node.es_hoja:\n",
    "            continue\n",
    "        for child in node.children:   \n",
    "            index += 1  \n",
    "            nodes[child] = index\n",
    "            if not node.es_categorico:\n",
    "                if child.value:\n",
    "                    added = '> '\n",
    "                else:\n",
    "                    added = '<= '\n",
    "                added += str(node.bin)\n",
    "            else:\n",
    "                added = child.value\n",
    "            if not child.es_hoja:\n",
    "                g.node(f'struct{index}', f'División: {child.division}\\nSamples: {len(child.data)}\\nPredicción: {child.answer}')\n",
    "            else:\n",
    "                g.node(f'struct{index}', f'División: Es hoja\\nSamples: {len(child.data)}\\nPredicción: {child.answer}')\n",
    "            g.edge(f'struct{nodes[node]}', f'struct{index}', label=f'({added})')\n",
    "\n",
    "        por_recorrer.extend(node.children)\n",
    "    return g"
   ]
  },
  {
   "cell_type": "code",
   "execution_count": null,
   "metadata": {
    "colab": {
     "base_uri": "https://localhost:8080/",
     "height": 917
    },
    "id": "isJ6SP8IKQky",
    "outputId": "0c8a4f51-875f-4fc7-e457-22970c68dbfa"
   },
   "outputs": [],
   "source": [
    "create_graph(tree.root)"
   ]
  },
  {
   "cell_type": "markdown",
   "metadata": {
    "id": "h2QYj90Z4RX5"
   },
   "source": [
    "## Bonus"
   ]
  },
  {
   "cell_type": "code",
   "execution_count": 20,
   "metadata": {
    "colab": {
     "base_uri": "https://localhost:8080/",
     "height": 34
    },
    "id": "HC0ZLxe8OtMi",
    "outputId": "ec96f7eb-326f-4662-f0e1-7b505790efc6"
   },
   "outputs": [
    {
     "ename": "KeyboardInterrupt",
     "evalue": "",
     "output_type": "error",
     "traceback": [
      "\u001b[0;31m---------------------------------------------------------------------------\u001b[0m",
      "\u001b[0;31mKeyboardInterrupt\u001b[0m                         Traceback (most recent call last)",
      "\u001b[0;32m<ipython-input-20-998f69d3ede7>\u001b[0m in \u001b[0;36m<module>\u001b[0;34m\u001b[0m\n\u001b[1;32m      1\u001b[0m \u001b[0mtree\u001b[0m \u001b[0;34m=\u001b[0m \u001b[0mDecisionTree\u001b[0m\u001b[0;34m(\u001b[0m\u001b[0;34m'transversal'\u001b[0m\u001b[0;34m,\u001b[0m \u001b[0;34m'mean'\u001b[0m\u001b[0;34m,\u001b[0m \u001b[0mmax_depth\u001b[0m\u001b[0;34m=\u001b[0m\u001b[0;36m3\u001b[0m\u001b[0;34m,\u001b[0m \u001b[0mignore_cols\u001b[0m\u001b[0;34m=\u001b[0m\u001b[0;34m[\u001b[0m\u001b[0;34m'name'\u001b[0m\u001b[0;34m,\u001b[0m \u001b[0;34m'ID'\u001b[0m\u001b[0;34m,\u001b[0m \u001b[0;34m'state'\u001b[0m\u001b[0;34m]\u001b[0m\u001b[0;34m)\u001b[0m\u001b[0;34m\u001b[0m\u001b[0;34m\u001b[0m\u001b[0m\n\u001b[0;32m----> 2\u001b[0;31m \u001b[0mtree\u001b[0m\u001b[0;34m.\u001b[0m\u001b[0mfit\u001b[0m\u001b[0;34m(\u001b[0m\u001b[0mX_train\u001b[0m\u001b[0;34m,\u001b[0m \u001b[0mY_train\u001b[0m\u001b[0;34m)\u001b[0m\u001b[0;34m\u001b[0m\u001b[0;34m\u001b[0m\u001b[0m\n\u001b[0m",
      "\u001b[0;32m<ipython-input-3-c64850ceb10c>\u001b[0m in \u001b[0;36mfit\u001b[0;34m(self, X, Y)\u001b[0m\n\u001b[1;32m     43\u001b[0m             \u001b[0;32mwhile\u001b[0m \u001b[0mpor_chequear\u001b[0m\u001b[0;34m:\u001b[0m\u001b[0;34m\u001b[0m\u001b[0;34m\u001b[0m\u001b[0m\n\u001b[1;32m     44\u001b[0m                 \u001b[0mnode\u001b[0m \u001b[0;34m=\u001b[0m \u001b[0mpor_chequear\u001b[0m\u001b[0;34m.\u001b[0m\u001b[0mpop\u001b[0m\u001b[0;34m(\u001b[0m\u001b[0;36m0\u001b[0m\u001b[0;34m)\u001b[0m\u001b[0;34m\u001b[0m\u001b[0;34m\u001b[0m\u001b[0m\n\u001b[0;32m---> 45\u001b[0;31m                 \u001b[0mdivisiones\u001b[0m \u001b[0;34m=\u001b[0m \u001b[0mnode\u001b[0m\u001b[0;34m.\u001b[0m\u001b[0mget_best_division\u001b[0m\u001b[0;34m(\u001b[0m\u001b[0mself\u001b[0m\u001b[0;34m.\u001b[0m\u001b[0mstrategy\u001b[0m\u001b[0;34m,\u001b[0m \u001b[0;34m'transversal'\u001b[0m\u001b[0;34m)\u001b[0m\u001b[0;34m\u001b[0m\u001b[0;34m\u001b[0m\u001b[0m\n\u001b[0m\u001b[1;32m     46\u001b[0m                 \u001b[0;32mif\u001b[0m \u001b[0;32mnot\u001b[0m \u001b[0mself\u001b[0m\u001b[0;34m.\u001b[0m\u001b[0mcheck_deep\u001b[0m\u001b[0;34m(\u001b[0m\u001b[0mnode\u001b[0m\u001b[0;34m)\u001b[0m \u001b[0;32mor\u001b[0m \u001b[0;32mnot\u001b[0m \u001b[0mself\u001b[0m\u001b[0;34m.\u001b[0m\u001b[0mcheck_min_data\u001b[0m\u001b[0;34m(\u001b[0m\u001b[0mnode\u001b[0m\u001b[0;34m)\u001b[0m\u001b[0;34m:\u001b[0m\u001b[0;34m\u001b[0m\u001b[0;34m\u001b[0m\u001b[0m\n\u001b[1;32m     47\u001b[0m                     \u001b[0mnode\u001b[0m\u001b[0;34m.\u001b[0m\u001b[0mes_hoja\u001b[0m \u001b[0;34m=\u001b[0m \u001b[0;32mTrue\u001b[0m\u001b[0;34m\u001b[0m\u001b[0;34m\u001b[0m\u001b[0m\n",
      "\u001b[0;32m<ipython-input-2-06aba810e2b4>\u001b[0m in \u001b[0;36mget_best_division\u001b[0;34m(self, strategy, cut_type)\u001b[0m\n\u001b[1;32m     97\u001b[0m                     \u001b[0;32mfor\u001b[0m \u001b[0mv1\u001b[0m \u001b[0;32min\u001b[0m \u001b[0mvalues\u001b[0m\u001b[0;34m[\u001b[0m\u001b[0mi\u001b[0m\u001b[0;34m]\u001b[0m\u001b[0;34m:\u001b[0m\u001b[0;34m\u001b[0m\u001b[0;34m\u001b[0m\u001b[0m\n\u001b[1;32m     98\u001b[0m                         \u001b[0;32mfor\u001b[0m \u001b[0mv2\u001b[0m \u001b[0;32min\u001b[0m \u001b[0mvalues\u001b[0m\u001b[0;34m[\u001b[0m\u001b[0mj\u001b[0m\u001b[0;34m]\u001b[0m\u001b[0;34m:\u001b[0m\u001b[0;34m\u001b[0m\u001b[0;34m\u001b[0m\u001b[0m\n\u001b[0;32m---> 99\u001b[0;31m                             \u001b[0mnew_data\u001b[0m \u001b[0;34m=\u001b[0m \u001b[0mself\u001b[0m\u001b[0;34m.\u001b[0m\u001b[0mdata\u001b[0m\u001b[0;34m[\u001b[0m\u001b[0;34m(\u001b[0m\u001b[0mcol1\u001b[0m \u001b[0;34m==\u001b[0m \u001b[0mv1\u001b[0m\u001b[0;34m)\u001b[0m \u001b[0;34m&\u001b[0m \u001b[0;34m(\u001b[0m\u001b[0mcol2\u001b[0m \u001b[0;34m==\u001b[0m \u001b[0mv2\u001b[0m\u001b[0;34m)\u001b[0m\u001b[0;34m]\u001b[0m\u001b[0;34m\u001b[0m\u001b[0;34m\u001b[0m\u001b[0m\n\u001b[0m\u001b[1;32m    100\u001b[0m                             \u001b[0;32mif\u001b[0m \u001b[0mlen\u001b[0m\u001b[0;34m(\u001b[0m\u001b[0mnew_data\u001b[0m\u001b[0;34m)\u001b[0m \u001b[0;34m==\u001b[0m \u001b[0;36m0\u001b[0m\u001b[0;34m:\u001b[0m\u001b[0;34m\u001b[0m\u001b[0;34m\u001b[0m\u001b[0m\n\u001b[1;32m    101\u001b[0m                                 \u001b[0mgains\u001b[0m\u001b[0;34m[\u001b[0m\u001b[0;34m(\u001b[0m\u001b[0mcol1\u001b[0m\u001b[0;34m.\u001b[0m\u001b[0mname\u001b[0m\u001b[0;34m,\u001b[0m \u001b[0mcol2\u001b[0m\u001b[0;34m.\u001b[0m\u001b[0mname\u001b[0m\u001b[0;34m)\u001b[0m\u001b[0;34m]\u001b[0m \u001b[0;34m=\u001b[0m \u001b[0;36m0\u001b[0m\u001b[0;34m\u001b[0m\u001b[0;34m\u001b[0m\u001b[0m\n",
      "\u001b[0;32m/Library/Frameworks/Python.framework/Versions/3.8/lib/python3.8/site-packages/pandas/core/ops/__init__.py\u001b[0m in \u001b[0;36mwrapper\u001b[0;34m(self, other, axis)\u001b[0m\n\u001b[1;32m   1227\u001b[0m \u001b[0;34m\u001b[0m\u001b[0m\n\u001b[1;32m   1228\u001b[0m             \u001b[0;32mwith\u001b[0m \u001b[0mnp\u001b[0m\u001b[0;34m.\u001b[0m\u001b[0merrstate\u001b[0m\u001b[0;34m(\u001b[0m\u001b[0mall\u001b[0m\u001b[0;34m=\u001b[0m\u001b[0;34m\"ignore\"\u001b[0m\u001b[0;34m)\u001b[0m\u001b[0;34m:\u001b[0m\u001b[0;34m\u001b[0m\u001b[0;34m\u001b[0m\u001b[0m\n\u001b[0;32m-> 1229\u001b[0;31m                 \u001b[0mres\u001b[0m \u001b[0;34m=\u001b[0m \u001b[0mna_op\u001b[0m\u001b[0;34m(\u001b[0m\u001b[0mvalues\u001b[0m\u001b[0;34m,\u001b[0m \u001b[0mother\u001b[0m\u001b[0;34m)\u001b[0m\u001b[0;34m\u001b[0m\u001b[0;34m\u001b[0m\u001b[0m\n\u001b[0m\u001b[1;32m   1230\u001b[0m             \u001b[0;32mif\u001b[0m \u001b[0mis_scalar\u001b[0m\u001b[0;34m(\u001b[0m\u001b[0mres\u001b[0m\u001b[0;34m)\u001b[0m\u001b[0;34m:\u001b[0m\u001b[0;34m\u001b[0m\u001b[0;34m\u001b[0m\u001b[0m\n\u001b[1;32m   1231\u001b[0m                 raise TypeError(\n",
      "\u001b[0;32m/Library/Frameworks/Python.framework/Versions/3.8/lib/python3.8/site-packages/pandas/core/ops/__init__.py\u001b[0m in \u001b[0;36mna_op\u001b[0;34m(x, y)\u001b[0m\n\u001b[1;32m   1089\u001b[0m \u001b[0;34m\u001b[0m\u001b[0m\n\u001b[1;32m   1090\u001b[0m         \u001b[0;32mif\u001b[0m \u001b[0mis_object_dtype\u001b[0m\u001b[0;34m(\u001b[0m\u001b[0mx\u001b[0m\u001b[0;34m.\u001b[0m\u001b[0mdtype\u001b[0m\u001b[0;34m)\u001b[0m\u001b[0;34m:\u001b[0m\u001b[0;34m\u001b[0m\u001b[0;34m\u001b[0m\u001b[0m\n\u001b[0;32m-> 1091\u001b[0;31m             \u001b[0mresult\u001b[0m \u001b[0;34m=\u001b[0m \u001b[0m_comp_method_OBJECT_ARRAY\u001b[0m\u001b[0;34m(\u001b[0m\u001b[0mop\u001b[0m\u001b[0;34m,\u001b[0m \u001b[0mx\u001b[0m\u001b[0;34m,\u001b[0m \u001b[0my\u001b[0m\u001b[0;34m)\u001b[0m\u001b[0;34m\u001b[0m\u001b[0;34m\u001b[0m\u001b[0m\n\u001b[0m\u001b[1;32m   1092\u001b[0m \u001b[0;34m\u001b[0m\u001b[0m\n\u001b[1;32m   1093\u001b[0m         \u001b[0;32melif\u001b[0m \u001b[0mis_datetimelike_v_numeric\u001b[0m\u001b[0;34m(\u001b[0m\u001b[0mx\u001b[0m\u001b[0;34m,\u001b[0m \u001b[0my\u001b[0m\u001b[0;34m)\u001b[0m\u001b[0;34m:\u001b[0m\u001b[0;34m\u001b[0m\u001b[0;34m\u001b[0m\u001b[0m\n",
      "\u001b[0;32m/Library/Frameworks/Python.framework/Versions/3.8/lib/python3.8/site-packages/pandas/core/ops/__init__.py\u001b[0m in \u001b[0;36m_comp_method_OBJECT_ARRAY\u001b[0;34m(op, x, y)\u001b[0m\n\u001b[1;32m   1067\u001b[0m         \u001b[0mresult\u001b[0m \u001b[0;34m=\u001b[0m \u001b[0mlibops\u001b[0m\u001b[0;34m.\u001b[0m\u001b[0mvec_compare\u001b[0m\u001b[0;34m(\u001b[0m\u001b[0mx\u001b[0m\u001b[0;34m,\u001b[0m \u001b[0my\u001b[0m\u001b[0;34m,\u001b[0m \u001b[0mop\u001b[0m\u001b[0;34m)\u001b[0m\u001b[0;34m\u001b[0m\u001b[0;34m\u001b[0m\u001b[0m\n\u001b[1;32m   1068\u001b[0m     \u001b[0;32melse\u001b[0m\u001b[0;34m:\u001b[0m\u001b[0;34m\u001b[0m\u001b[0;34m\u001b[0m\u001b[0m\n\u001b[0;32m-> 1069\u001b[0;31m         \u001b[0mresult\u001b[0m \u001b[0;34m=\u001b[0m \u001b[0mlibops\u001b[0m\u001b[0;34m.\u001b[0m\u001b[0mscalar_compare\u001b[0m\u001b[0;34m(\u001b[0m\u001b[0mx\u001b[0m\u001b[0;34m,\u001b[0m \u001b[0my\u001b[0m\u001b[0;34m,\u001b[0m \u001b[0mop\u001b[0m\u001b[0;34m)\u001b[0m\u001b[0;34m\u001b[0m\u001b[0;34m\u001b[0m\u001b[0m\n\u001b[0m\u001b[1;32m   1070\u001b[0m     \u001b[0;32mreturn\u001b[0m \u001b[0mresult\u001b[0m\u001b[0;34m\u001b[0m\u001b[0;34m\u001b[0m\u001b[0m\n\u001b[1;32m   1071\u001b[0m \u001b[0;34m\u001b[0m\u001b[0m\n",
      "\u001b[0;31mKeyboardInterrupt\u001b[0m: "
     ]
    }
   ],
   "source": [
    "tree = DecisionTree('transversal', 'mean', max_depth=3, ignore_cols=['name', 'ID', 'state'])\n",
    "tree.fit(X_train, Y_train)"
   ]
  },
  {
   "cell_type": "code",
   "execution_count": null,
   "metadata": {
    "id": "1Qy7N_yW4Q2m"
   },
   "outputs": [],
   "source": [
    "def create_graph_transversal(tree):\n",
    "    \"\"\"\n",
    "    Crea la visaulización del árbol con corte transversal\n",
    "    \"\"\"\n",
    "    g = graphviz.Digraph('G', filename='graph.gv')\n",
    "    g.attr('node', shape='square')\n",
    "    por_recorrer = [tree]\n",
    "    nodes = {}\n",
    "    index = 0\n",
    "    nodes[tree] = index\n",
    "    tree_label = ' & '.join(tree.division)\n",
    "    g.node(f'struct{index}', f'División: {tree_label}\\nSamples: {len(tree.data)}\\nPredicción: {tree.answer}')\n",
    "    while por_recorrer:\n",
    "        node = por_recorrer.pop(0)\n",
    "        if node.es_hoja:\n",
    "            continue\n",
    "        for child in node.children:   \n",
    "            index += 1  \n",
    "            nodes[child] = index\n",
    "            if not node.es_categorico[0]:\n",
    "                if child.value[0]:\n",
    "                    added_1 = '> '\n",
    "                else:\n",
    "                    added_1 = '<= '\n",
    "                added_1 += str(round(node.bin[0], 2))\n",
    "            else:\n",
    "                added_1 = child.value[0]\n",
    "            if not node.es_categorico[1]:\n",
    "                if child.value[1]:\n",
    "                    added_2 = '> '\n",
    "                else:\n",
    "                    added_2 = '<= '\n",
    "                added_2 += str(round(node.bin[1], 2))\n",
    "            else:\n",
    "                added_2 = child.value[1]\n",
    "            label = f'{added_1} & {added_2}'\n",
    "            added_1 + \"&\" + added_2 + f'{child.value[1]}'\n",
    "            if not child.es_hoja:\n",
    "                div_label = ' & '.join(child.division)\n",
    "                g.node(f'struct{index}', f'División: {div_label}\\nSamples: {len(child.data)}\\nPredicción: {child.answer}')\n",
    "            else:\n",
    "                g.node(f'struct{index}', f'División: Es hoja\\nSamples: {len(child.data)}\\nPredicción: {child.answer}')\n",
    "            g.edge(f'struct{nodes[node]}', f'struct{index}', label=f'({label})')\n",
    "\n",
    "        por_recorrer.extend(node.children)\n",
    "    return g\n"
   ]
  },
  {
   "cell_type": "code",
   "execution_count": null,
   "metadata": {
    "colab": {
     "base_uri": "https://localhost:8080/",
     "height": 1000
    },
    "id": "zsx7vEXWbxTx",
    "outputId": "b2f2dcf1-4fa4-46b1-b5a6-d679f0fd6563"
   },
   "outputs": [],
   "source": [
    "create_graph_transversal(tree.root)"
   ]
  },
  {
   "cell_type": "code",
   "execution_count": null,
   "metadata": {},
   "outputs": [],
   "source": []
  }
 ],
 "metadata": {
  "colab": {
   "collapsed_sections": [],
   "name": "Copia de tarea2.ipynb",
   "provenance": [],
   "toc_visible": true
  },
  "kernelspec": {
   "display_name": "Python 3",
   "language": "python",
   "name": "python3"
  },
  "language_info": {
   "codemirror_mode": {
    "name": "ipython",
    "version": 3
   },
   "file_extension": ".py",
   "mimetype": "text/x-python",
   "name": "python",
   "nbconvert_exporter": "python",
   "pygments_lexer": "ipython3",
   "version": "3.8.2"
  }
 },
 "nbformat": 4,
 "nbformat_minor": 1
}
